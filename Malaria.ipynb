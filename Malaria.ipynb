{
  "nbformat": 4,
  "nbformat_minor": 0,
  "metadata": {
    "colab": {
      "provenance": [],
      "gpuType": "T4",
      "authorship_tag": "ABX9TyPsJcUT4cUcq4iPg/QZYe20",
      "include_colab_link": true
    },
    "kernelspec": {
      "name": "python3",
      "display_name": "Python 3"
    },
    "language_info": {
      "name": "python"
    },
    "accelerator": "GPU",
    "widgets": {
      "application/vnd.jupyter.widget-state+json": {
        "11d21562625546b581008f8f4a5da7ae": {
          "model_module": "@jupyter-widgets/controls",
          "model_name": "HBoxModel",
          "model_module_version": "1.5.0",
          "state": {
            "_dom_classes": [],
            "_model_module": "@jupyter-widgets/controls",
            "_model_module_version": "1.5.0",
            "_model_name": "HBoxModel",
            "_view_count": null,
            "_view_module": "@jupyter-widgets/controls",
            "_view_module_version": "1.5.0",
            "_view_name": "HBoxView",
            "box_style": "",
            "children": [
              "IPY_MODEL_1111ef187e814ab789eaac9e572bdf2e",
              "IPY_MODEL_921b42e6cc37487ab21c6984b6896a40",
              "IPY_MODEL_5d5c0cdecd454edfb12e002f500a8a0a"
            ],
            "layout": "IPY_MODEL_22af3c59d1b64d958a3bbccc745308a4"
          }
        },
        "1111ef187e814ab789eaac9e572bdf2e": {
          "model_module": "@jupyter-widgets/controls",
          "model_name": "HTMLModel",
          "model_module_version": "1.5.0",
          "state": {
            "_dom_classes": [],
            "_model_module": "@jupyter-widgets/controls",
            "_model_module_version": "1.5.0",
            "_model_name": "HTMLModel",
            "_view_count": null,
            "_view_module": "@jupyter-widgets/controls",
            "_view_module_version": "1.5.0",
            "_view_name": "HTMLView",
            "description": "",
            "description_tooltip": null,
            "layout": "IPY_MODEL_89b18e3fc7984561820084b84af7eaf6",
            "placeholder": "​",
            "style": "IPY_MODEL_f6283b9583f240b0914b1820b2aedebf",
            "value": "Dl Completed...: 100%"
          }
        },
        "921b42e6cc37487ab21c6984b6896a40": {
          "model_module": "@jupyter-widgets/controls",
          "model_name": "FloatProgressModel",
          "model_module_version": "1.5.0",
          "state": {
            "_dom_classes": [],
            "_model_module": "@jupyter-widgets/controls",
            "_model_module_version": "1.5.0",
            "_model_name": "FloatProgressModel",
            "_view_count": null,
            "_view_module": "@jupyter-widgets/controls",
            "_view_module_version": "1.5.0",
            "_view_name": "ProgressView",
            "bar_style": "success",
            "description": "",
            "description_tooltip": null,
            "layout": "IPY_MODEL_18cc1f5fd38c4df09876fdfb3da717cc",
            "max": 1,
            "min": 0,
            "orientation": "horizontal",
            "style": "IPY_MODEL_bc7d7caaebed438eb960b912e0af1de8",
            "value": 1
          }
        },
        "5d5c0cdecd454edfb12e002f500a8a0a": {
          "model_module": "@jupyter-widgets/controls",
          "model_name": "HTMLModel",
          "model_module_version": "1.5.0",
          "state": {
            "_dom_classes": [],
            "_model_module": "@jupyter-widgets/controls",
            "_model_module_version": "1.5.0",
            "_model_name": "HTMLModel",
            "_view_count": null,
            "_view_module": "@jupyter-widgets/controls",
            "_view_module_version": "1.5.0",
            "_view_name": "HTMLView",
            "description": "",
            "description_tooltip": null,
            "layout": "IPY_MODEL_7a98de31a66f45c0bceea466baa7b9d4",
            "placeholder": "​",
            "style": "IPY_MODEL_718271de6c2541d591c124937a6a4679",
            "value": " 1/1 [01:20&lt;00:00,  8.51s/ url]"
          }
        },
        "22af3c59d1b64d958a3bbccc745308a4": {
          "model_module": "@jupyter-widgets/base",
          "model_name": "LayoutModel",
          "model_module_version": "1.2.0",
          "state": {
            "_model_module": "@jupyter-widgets/base",
            "_model_module_version": "1.2.0",
            "_model_name": "LayoutModel",
            "_view_count": null,
            "_view_module": "@jupyter-widgets/base",
            "_view_module_version": "1.2.0",
            "_view_name": "LayoutView",
            "align_content": null,
            "align_items": null,
            "align_self": null,
            "border": null,
            "bottom": null,
            "display": null,
            "flex": null,
            "flex_flow": null,
            "grid_area": null,
            "grid_auto_columns": null,
            "grid_auto_flow": null,
            "grid_auto_rows": null,
            "grid_column": null,
            "grid_gap": null,
            "grid_row": null,
            "grid_template_areas": null,
            "grid_template_columns": null,
            "grid_template_rows": null,
            "height": null,
            "justify_content": null,
            "justify_items": null,
            "left": null,
            "margin": null,
            "max_height": null,
            "max_width": null,
            "min_height": null,
            "min_width": null,
            "object_fit": null,
            "object_position": null,
            "order": null,
            "overflow": null,
            "overflow_x": null,
            "overflow_y": null,
            "padding": null,
            "right": null,
            "top": null,
            "visibility": null,
            "width": null
          }
        },
        "89b18e3fc7984561820084b84af7eaf6": {
          "model_module": "@jupyter-widgets/base",
          "model_name": "LayoutModel",
          "model_module_version": "1.2.0",
          "state": {
            "_model_module": "@jupyter-widgets/base",
            "_model_module_version": "1.2.0",
            "_model_name": "LayoutModel",
            "_view_count": null,
            "_view_module": "@jupyter-widgets/base",
            "_view_module_version": "1.2.0",
            "_view_name": "LayoutView",
            "align_content": null,
            "align_items": null,
            "align_self": null,
            "border": null,
            "bottom": null,
            "display": null,
            "flex": null,
            "flex_flow": null,
            "grid_area": null,
            "grid_auto_columns": null,
            "grid_auto_flow": null,
            "grid_auto_rows": null,
            "grid_column": null,
            "grid_gap": null,
            "grid_row": null,
            "grid_template_areas": null,
            "grid_template_columns": null,
            "grid_template_rows": null,
            "height": null,
            "justify_content": null,
            "justify_items": null,
            "left": null,
            "margin": null,
            "max_height": null,
            "max_width": null,
            "min_height": null,
            "min_width": null,
            "object_fit": null,
            "object_position": null,
            "order": null,
            "overflow": null,
            "overflow_x": null,
            "overflow_y": null,
            "padding": null,
            "right": null,
            "top": null,
            "visibility": null,
            "width": null
          }
        },
        "f6283b9583f240b0914b1820b2aedebf": {
          "model_module": "@jupyter-widgets/controls",
          "model_name": "DescriptionStyleModel",
          "model_module_version": "1.5.0",
          "state": {
            "_model_module": "@jupyter-widgets/controls",
            "_model_module_version": "1.5.0",
            "_model_name": "DescriptionStyleModel",
            "_view_count": null,
            "_view_module": "@jupyter-widgets/base",
            "_view_module_version": "1.2.0",
            "_view_name": "StyleView",
            "description_width": ""
          }
        },
        "18cc1f5fd38c4df09876fdfb3da717cc": {
          "model_module": "@jupyter-widgets/base",
          "model_name": "LayoutModel",
          "model_module_version": "1.2.0",
          "state": {
            "_model_module": "@jupyter-widgets/base",
            "_model_module_version": "1.2.0",
            "_model_name": "LayoutModel",
            "_view_count": null,
            "_view_module": "@jupyter-widgets/base",
            "_view_module_version": "1.2.0",
            "_view_name": "LayoutView",
            "align_content": null,
            "align_items": null,
            "align_self": null,
            "border": null,
            "bottom": null,
            "display": null,
            "flex": null,
            "flex_flow": null,
            "grid_area": null,
            "grid_auto_columns": null,
            "grid_auto_flow": null,
            "grid_auto_rows": null,
            "grid_column": null,
            "grid_gap": null,
            "grid_row": null,
            "grid_template_areas": null,
            "grid_template_columns": null,
            "grid_template_rows": null,
            "height": null,
            "justify_content": null,
            "justify_items": null,
            "left": null,
            "margin": null,
            "max_height": null,
            "max_width": null,
            "min_height": null,
            "min_width": null,
            "object_fit": null,
            "object_position": null,
            "order": null,
            "overflow": null,
            "overflow_x": null,
            "overflow_y": null,
            "padding": null,
            "right": null,
            "top": null,
            "visibility": null,
            "width": "20px"
          }
        },
        "bc7d7caaebed438eb960b912e0af1de8": {
          "model_module": "@jupyter-widgets/controls",
          "model_name": "ProgressStyleModel",
          "model_module_version": "1.5.0",
          "state": {
            "_model_module": "@jupyter-widgets/controls",
            "_model_module_version": "1.5.0",
            "_model_name": "ProgressStyleModel",
            "_view_count": null,
            "_view_module": "@jupyter-widgets/base",
            "_view_module_version": "1.2.0",
            "_view_name": "StyleView",
            "bar_color": null,
            "description_width": ""
          }
        },
        "7a98de31a66f45c0bceea466baa7b9d4": {
          "model_module": "@jupyter-widgets/base",
          "model_name": "LayoutModel",
          "model_module_version": "1.2.0",
          "state": {
            "_model_module": "@jupyter-widgets/base",
            "_model_module_version": "1.2.0",
            "_model_name": "LayoutModel",
            "_view_count": null,
            "_view_module": "@jupyter-widgets/base",
            "_view_module_version": "1.2.0",
            "_view_name": "LayoutView",
            "align_content": null,
            "align_items": null,
            "align_self": null,
            "border": null,
            "bottom": null,
            "display": null,
            "flex": null,
            "flex_flow": null,
            "grid_area": null,
            "grid_auto_columns": null,
            "grid_auto_flow": null,
            "grid_auto_rows": null,
            "grid_column": null,
            "grid_gap": null,
            "grid_row": null,
            "grid_template_areas": null,
            "grid_template_columns": null,
            "grid_template_rows": null,
            "height": null,
            "justify_content": null,
            "justify_items": null,
            "left": null,
            "margin": null,
            "max_height": null,
            "max_width": null,
            "min_height": null,
            "min_width": null,
            "object_fit": null,
            "object_position": null,
            "order": null,
            "overflow": null,
            "overflow_x": null,
            "overflow_y": null,
            "padding": null,
            "right": null,
            "top": null,
            "visibility": null,
            "width": null
          }
        },
        "718271de6c2541d591c124937a6a4679": {
          "model_module": "@jupyter-widgets/controls",
          "model_name": "DescriptionStyleModel",
          "model_module_version": "1.5.0",
          "state": {
            "_model_module": "@jupyter-widgets/controls",
            "_model_module_version": "1.5.0",
            "_model_name": "DescriptionStyleModel",
            "_view_count": null,
            "_view_module": "@jupyter-widgets/base",
            "_view_module_version": "1.2.0",
            "_view_name": "StyleView",
            "description_width": ""
          }
        },
        "8773784749ee45a2a08a39359110ff48": {
          "model_module": "@jupyter-widgets/controls",
          "model_name": "HBoxModel",
          "model_module_version": "1.5.0",
          "state": {
            "_dom_classes": [],
            "_model_module": "@jupyter-widgets/controls",
            "_model_module_version": "1.5.0",
            "_model_name": "HBoxModel",
            "_view_count": null,
            "_view_module": "@jupyter-widgets/controls",
            "_view_module_version": "1.5.0",
            "_view_name": "HBoxView",
            "box_style": "",
            "children": [
              "IPY_MODEL_e19d0eb10e024a2c810ba3648791707c",
              "IPY_MODEL_9a7b8f0cfd45446e92b6e413dc51c8ed",
              "IPY_MODEL_bc67f111890a4551971b7c0ec1ca4f28"
            ],
            "layout": "IPY_MODEL_ae92b10d03f84539a7db6af70a6ff03f"
          }
        },
        "e19d0eb10e024a2c810ba3648791707c": {
          "model_module": "@jupyter-widgets/controls",
          "model_name": "HTMLModel",
          "model_module_version": "1.5.0",
          "state": {
            "_dom_classes": [],
            "_model_module": "@jupyter-widgets/controls",
            "_model_module_version": "1.5.0",
            "_model_name": "HTMLModel",
            "_view_count": null,
            "_view_module": "@jupyter-widgets/controls",
            "_view_module_version": "1.5.0",
            "_view_name": "HTMLView",
            "description": "",
            "description_tooltip": null,
            "layout": "IPY_MODEL_c4aba227e5214151bfd3cbf9be6a50cf",
            "placeholder": "​",
            "style": "IPY_MODEL_b8851f674b7a4742afcf9f5a3f7f15bb",
            "value": "Dl Size...: 100%"
          }
        },
        "9a7b8f0cfd45446e92b6e413dc51c8ed": {
          "model_module": "@jupyter-widgets/controls",
          "model_name": "FloatProgressModel",
          "model_module_version": "1.5.0",
          "state": {
            "_dom_classes": [],
            "_model_module": "@jupyter-widgets/controls",
            "_model_module_version": "1.5.0",
            "_model_name": "FloatProgressModel",
            "_view_count": null,
            "_view_module": "@jupyter-widgets/controls",
            "_view_module_version": "1.5.0",
            "_view_name": "ProgressView",
            "bar_style": "success",
            "description": "",
            "description_tooltip": null,
            "layout": "IPY_MODEL_a4b75923e8124659bf5f1fc73b67d901",
            "max": 1,
            "min": 0,
            "orientation": "horizontal",
            "style": "IPY_MODEL_e6587524e7de4964aa8d41bb3d414bae",
            "value": 1
          }
        },
        "bc67f111890a4551971b7c0ec1ca4f28": {
          "model_module": "@jupyter-widgets/controls",
          "model_name": "HTMLModel",
          "model_module_version": "1.5.0",
          "state": {
            "_dom_classes": [],
            "_model_module": "@jupyter-widgets/controls",
            "_model_module_version": "1.5.0",
            "_model_name": "HTMLModel",
            "_view_count": null,
            "_view_module": "@jupyter-widgets/controls",
            "_view_module_version": "1.5.0",
            "_view_name": "HTMLView",
            "description": "",
            "description_tooltip": null,
            "layout": "IPY_MODEL_03a61b5fe2ab478fbb0fe82121f64f65",
            "placeholder": "​",
            "style": "IPY_MODEL_c46891799dfa4897b78c0a5fe39871c3",
            "value": " 337/337 [01:20&lt;00:00, 84.26 MiB/s]"
          }
        },
        "ae92b10d03f84539a7db6af70a6ff03f": {
          "model_module": "@jupyter-widgets/base",
          "model_name": "LayoutModel",
          "model_module_version": "1.2.0",
          "state": {
            "_model_module": "@jupyter-widgets/base",
            "_model_module_version": "1.2.0",
            "_model_name": "LayoutModel",
            "_view_count": null,
            "_view_module": "@jupyter-widgets/base",
            "_view_module_version": "1.2.0",
            "_view_name": "LayoutView",
            "align_content": null,
            "align_items": null,
            "align_self": null,
            "border": null,
            "bottom": null,
            "display": null,
            "flex": null,
            "flex_flow": null,
            "grid_area": null,
            "grid_auto_columns": null,
            "grid_auto_flow": null,
            "grid_auto_rows": null,
            "grid_column": null,
            "grid_gap": null,
            "grid_row": null,
            "grid_template_areas": null,
            "grid_template_columns": null,
            "grid_template_rows": null,
            "height": null,
            "justify_content": null,
            "justify_items": null,
            "left": null,
            "margin": null,
            "max_height": null,
            "max_width": null,
            "min_height": null,
            "min_width": null,
            "object_fit": null,
            "object_position": null,
            "order": null,
            "overflow": null,
            "overflow_x": null,
            "overflow_y": null,
            "padding": null,
            "right": null,
            "top": null,
            "visibility": null,
            "width": null
          }
        },
        "c4aba227e5214151bfd3cbf9be6a50cf": {
          "model_module": "@jupyter-widgets/base",
          "model_name": "LayoutModel",
          "model_module_version": "1.2.0",
          "state": {
            "_model_module": "@jupyter-widgets/base",
            "_model_module_version": "1.2.0",
            "_model_name": "LayoutModel",
            "_view_count": null,
            "_view_module": "@jupyter-widgets/base",
            "_view_module_version": "1.2.0",
            "_view_name": "LayoutView",
            "align_content": null,
            "align_items": null,
            "align_self": null,
            "border": null,
            "bottom": null,
            "display": null,
            "flex": null,
            "flex_flow": null,
            "grid_area": null,
            "grid_auto_columns": null,
            "grid_auto_flow": null,
            "grid_auto_rows": null,
            "grid_column": null,
            "grid_gap": null,
            "grid_row": null,
            "grid_template_areas": null,
            "grid_template_columns": null,
            "grid_template_rows": null,
            "height": null,
            "justify_content": null,
            "justify_items": null,
            "left": null,
            "margin": null,
            "max_height": null,
            "max_width": null,
            "min_height": null,
            "min_width": null,
            "object_fit": null,
            "object_position": null,
            "order": null,
            "overflow": null,
            "overflow_x": null,
            "overflow_y": null,
            "padding": null,
            "right": null,
            "top": null,
            "visibility": null,
            "width": null
          }
        },
        "b8851f674b7a4742afcf9f5a3f7f15bb": {
          "model_module": "@jupyter-widgets/controls",
          "model_name": "DescriptionStyleModel",
          "model_module_version": "1.5.0",
          "state": {
            "_model_module": "@jupyter-widgets/controls",
            "_model_module_version": "1.5.0",
            "_model_name": "DescriptionStyleModel",
            "_view_count": null,
            "_view_module": "@jupyter-widgets/base",
            "_view_module_version": "1.2.0",
            "_view_name": "StyleView",
            "description_width": ""
          }
        },
        "a4b75923e8124659bf5f1fc73b67d901": {
          "model_module": "@jupyter-widgets/base",
          "model_name": "LayoutModel",
          "model_module_version": "1.2.0",
          "state": {
            "_model_module": "@jupyter-widgets/base",
            "_model_module_version": "1.2.0",
            "_model_name": "LayoutModel",
            "_view_count": null,
            "_view_module": "@jupyter-widgets/base",
            "_view_module_version": "1.2.0",
            "_view_name": "LayoutView",
            "align_content": null,
            "align_items": null,
            "align_self": null,
            "border": null,
            "bottom": null,
            "display": null,
            "flex": null,
            "flex_flow": null,
            "grid_area": null,
            "grid_auto_columns": null,
            "grid_auto_flow": null,
            "grid_auto_rows": null,
            "grid_column": null,
            "grid_gap": null,
            "grid_row": null,
            "grid_template_areas": null,
            "grid_template_columns": null,
            "grid_template_rows": null,
            "height": null,
            "justify_content": null,
            "justify_items": null,
            "left": null,
            "margin": null,
            "max_height": null,
            "max_width": null,
            "min_height": null,
            "min_width": null,
            "object_fit": null,
            "object_position": null,
            "order": null,
            "overflow": null,
            "overflow_x": null,
            "overflow_y": null,
            "padding": null,
            "right": null,
            "top": null,
            "visibility": null,
            "width": "20px"
          }
        },
        "e6587524e7de4964aa8d41bb3d414bae": {
          "model_module": "@jupyter-widgets/controls",
          "model_name": "ProgressStyleModel",
          "model_module_version": "1.5.0",
          "state": {
            "_model_module": "@jupyter-widgets/controls",
            "_model_module_version": "1.5.0",
            "_model_name": "ProgressStyleModel",
            "_view_count": null,
            "_view_module": "@jupyter-widgets/base",
            "_view_module_version": "1.2.0",
            "_view_name": "StyleView",
            "bar_color": null,
            "description_width": ""
          }
        },
        "03a61b5fe2ab478fbb0fe82121f64f65": {
          "model_module": "@jupyter-widgets/base",
          "model_name": "LayoutModel",
          "model_module_version": "1.2.0",
          "state": {
            "_model_module": "@jupyter-widgets/base",
            "_model_module_version": "1.2.0",
            "_model_name": "LayoutModel",
            "_view_count": null,
            "_view_module": "@jupyter-widgets/base",
            "_view_module_version": "1.2.0",
            "_view_name": "LayoutView",
            "align_content": null,
            "align_items": null,
            "align_self": null,
            "border": null,
            "bottom": null,
            "display": null,
            "flex": null,
            "flex_flow": null,
            "grid_area": null,
            "grid_auto_columns": null,
            "grid_auto_flow": null,
            "grid_auto_rows": null,
            "grid_column": null,
            "grid_gap": null,
            "grid_row": null,
            "grid_template_areas": null,
            "grid_template_columns": null,
            "grid_template_rows": null,
            "height": null,
            "justify_content": null,
            "justify_items": null,
            "left": null,
            "margin": null,
            "max_height": null,
            "max_width": null,
            "min_height": null,
            "min_width": null,
            "object_fit": null,
            "object_position": null,
            "order": null,
            "overflow": null,
            "overflow_x": null,
            "overflow_y": null,
            "padding": null,
            "right": null,
            "top": null,
            "visibility": null,
            "width": null
          }
        },
        "c46891799dfa4897b78c0a5fe39871c3": {
          "model_module": "@jupyter-widgets/controls",
          "model_name": "DescriptionStyleModel",
          "model_module_version": "1.5.0",
          "state": {
            "_model_module": "@jupyter-widgets/controls",
            "_model_module_version": "1.5.0",
            "_model_name": "DescriptionStyleModel",
            "_view_count": null,
            "_view_module": "@jupyter-widgets/base",
            "_view_module_version": "1.2.0",
            "_view_name": "StyleView",
            "description_width": ""
          }
        },
        "aa952c99c56b4f1fbe671b6223590731": {
          "model_module": "@jupyter-widgets/controls",
          "model_name": "HBoxModel",
          "model_module_version": "1.5.0",
          "state": {
            "_dom_classes": [],
            "_model_module": "@jupyter-widgets/controls",
            "_model_module_version": "1.5.0",
            "_model_name": "HBoxModel",
            "_view_count": null,
            "_view_module": "@jupyter-widgets/controls",
            "_view_module_version": "1.5.0",
            "_view_name": "HBoxView",
            "box_style": "",
            "children": [
              "IPY_MODEL_4b6ccf645b334d34940b644a18b3a4b2",
              "IPY_MODEL_62c422990acb4c0cadb2af1ebf0ec17b",
              "IPY_MODEL_d7510eaccad141fc83a1ce2577c9d550"
            ],
            "layout": "IPY_MODEL_6ee3c62358c14fb88f2a02a1036440cb"
          }
        },
        "4b6ccf645b334d34940b644a18b3a4b2": {
          "model_module": "@jupyter-widgets/controls",
          "model_name": "HTMLModel",
          "model_module_version": "1.5.0",
          "state": {
            "_dom_classes": [],
            "_model_module": "@jupyter-widgets/controls",
            "_model_module_version": "1.5.0",
            "_model_name": "HTMLModel",
            "_view_count": null,
            "_view_module": "@jupyter-widgets/controls",
            "_view_module_version": "1.5.0",
            "_view_name": "HTMLView",
            "description": "",
            "description_tooltip": null,
            "layout": "IPY_MODEL_e6dadc24df51469f8170d890b6e9748b",
            "placeholder": "​",
            "style": "IPY_MODEL_13b79e17aa914d3db16c344547cbb2ff",
            "value": "Extraction completed...: 100%"
          }
        },
        "62c422990acb4c0cadb2af1ebf0ec17b": {
          "model_module": "@jupyter-widgets/controls",
          "model_name": "FloatProgressModel",
          "model_module_version": "1.5.0",
          "state": {
            "_dom_classes": [],
            "_model_module": "@jupyter-widgets/controls",
            "_model_module_version": "1.5.0",
            "_model_name": "FloatProgressModel",
            "_view_count": null,
            "_view_module": "@jupyter-widgets/controls",
            "_view_module_version": "1.5.0",
            "_view_name": "ProgressView",
            "bar_style": "success",
            "description": "",
            "description_tooltip": null,
            "layout": "IPY_MODEL_381cca87a76f42399c61a3d18641ef02",
            "max": 1,
            "min": 0,
            "orientation": "horizontal",
            "style": "IPY_MODEL_e4ce241e4ff44d54b5d5894c65d7bc39",
            "value": 1
          }
        },
        "d7510eaccad141fc83a1ce2577c9d550": {
          "model_module": "@jupyter-widgets/controls",
          "model_name": "HTMLModel",
          "model_module_version": "1.5.0",
          "state": {
            "_dom_classes": [],
            "_model_module": "@jupyter-widgets/controls",
            "_model_module_version": "1.5.0",
            "_model_name": "HTMLModel",
            "_view_count": null,
            "_view_module": "@jupyter-widgets/controls",
            "_view_module_version": "1.5.0",
            "_view_name": "HTMLView",
            "description": "",
            "description_tooltip": null,
            "layout": "IPY_MODEL_9131b0ab0c9c4c82ade61f6ce3dfe99a",
            "placeholder": "​",
            "style": "IPY_MODEL_65ccece8ef0c4f8988f96676c886be1f",
            "value": " 27560/27560 [01:20&lt;00:00, 1037.32 file/s]"
          }
        },
        "6ee3c62358c14fb88f2a02a1036440cb": {
          "model_module": "@jupyter-widgets/base",
          "model_name": "LayoutModel",
          "model_module_version": "1.2.0",
          "state": {
            "_model_module": "@jupyter-widgets/base",
            "_model_module_version": "1.2.0",
            "_model_name": "LayoutModel",
            "_view_count": null,
            "_view_module": "@jupyter-widgets/base",
            "_view_module_version": "1.2.0",
            "_view_name": "LayoutView",
            "align_content": null,
            "align_items": null,
            "align_self": null,
            "border": null,
            "bottom": null,
            "display": null,
            "flex": null,
            "flex_flow": null,
            "grid_area": null,
            "grid_auto_columns": null,
            "grid_auto_flow": null,
            "grid_auto_rows": null,
            "grid_column": null,
            "grid_gap": null,
            "grid_row": null,
            "grid_template_areas": null,
            "grid_template_columns": null,
            "grid_template_rows": null,
            "height": null,
            "justify_content": null,
            "justify_items": null,
            "left": null,
            "margin": null,
            "max_height": null,
            "max_width": null,
            "min_height": null,
            "min_width": null,
            "object_fit": null,
            "object_position": null,
            "order": null,
            "overflow": null,
            "overflow_x": null,
            "overflow_y": null,
            "padding": null,
            "right": null,
            "top": null,
            "visibility": null,
            "width": null
          }
        },
        "e6dadc24df51469f8170d890b6e9748b": {
          "model_module": "@jupyter-widgets/base",
          "model_name": "LayoutModel",
          "model_module_version": "1.2.0",
          "state": {
            "_model_module": "@jupyter-widgets/base",
            "_model_module_version": "1.2.0",
            "_model_name": "LayoutModel",
            "_view_count": null,
            "_view_module": "@jupyter-widgets/base",
            "_view_module_version": "1.2.0",
            "_view_name": "LayoutView",
            "align_content": null,
            "align_items": null,
            "align_self": null,
            "border": null,
            "bottom": null,
            "display": null,
            "flex": null,
            "flex_flow": null,
            "grid_area": null,
            "grid_auto_columns": null,
            "grid_auto_flow": null,
            "grid_auto_rows": null,
            "grid_column": null,
            "grid_gap": null,
            "grid_row": null,
            "grid_template_areas": null,
            "grid_template_columns": null,
            "grid_template_rows": null,
            "height": null,
            "justify_content": null,
            "justify_items": null,
            "left": null,
            "margin": null,
            "max_height": null,
            "max_width": null,
            "min_height": null,
            "min_width": null,
            "object_fit": null,
            "object_position": null,
            "order": null,
            "overflow": null,
            "overflow_x": null,
            "overflow_y": null,
            "padding": null,
            "right": null,
            "top": null,
            "visibility": null,
            "width": null
          }
        },
        "13b79e17aa914d3db16c344547cbb2ff": {
          "model_module": "@jupyter-widgets/controls",
          "model_name": "DescriptionStyleModel",
          "model_module_version": "1.5.0",
          "state": {
            "_model_module": "@jupyter-widgets/controls",
            "_model_module_version": "1.5.0",
            "_model_name": "DescriptionStyleModel",
            "_view_count": null,
            "_view_module": "@jupyter-widgets/base",
            "_view_module_version": "1.2.0",
            "_view_name": "StyleView",
            "description_width": ""
          }
        },
        "381cca87a76f42399c61a3d18641ef02": {
          "model_module": "@jupyter-widgets/base",
          "model_name": "LayoutModel",
          "model_module_version": "1.2.0",
          "state": {
            "_model_module": "@jupyter-widgets/base",
            "_model_module_version": "1.2.0",
            "_model_name": "LayoutModel",
            "_view_count": null,
            "_view_module": "@jupyter-widgets/base",
            "_view_module_version": "1.2.0",
            "_view_name": "LayoutView",
            "align_content": null,
            "align_items": null,
            "align_self": null,
            "border": null,
            "bottom": null,
            "display": null,
            "flex": null,
            "flex_flow": null,
            "grid_area": null,
            "grid_auto_columns": null,
            "grid_auto_flow": null,
            "grid_auto_rows": null,
            "grid_column": null,
            "grid_gap": null,
            "grid_row": null,
            "grid_template_areas": null,
            "grid_template_columns": null,
            "grid_template_rows": null,
            "height": null,
            "justify_content": null,
            "justify_items": null,
            "left": null,
            "margin": null,
            "max_height": null,
            "max_width": null,
            "min_height": null,
            "min_width": null,
            "object_fit": null,
            "object_position": null,
            "order": null,
            "overflow": null,
            "overflow_x": null,
            "overflow_y": null,
            "padding": null,
            "right": null,
            "top": null,
            "visibility": null,
            "width": "20px"
          }
        },
        "e4ce241e4ff44d54b5d5894c65d7bc39": {
          "model_module": "@jupyter-widgets/controls",
          "model_name": "ProgressStyleModel",
          "model_module_version": "1.5.0",
          "state": {
            "_model_module": "@jupyter-widgets/controls",
            "_model_module_version": "1.5.0",
            "_model_name": "ProgressStyleModel",
            "_view_count": null,
            "_view_module": "@jupyter-widgets/base",
            "_view_module_version": "1.2.0",
            "_view_name": "StyleView",
            "bar_color": null,
            "description_width": ""
          }
        },
        "9131b0ab0c9c4c82ade61f6ce3dfe99a": {
          "model_module": "@jupyter-widgets/base",
          "model_name": "LayoutModel",
          "model_module_version": "1.2.0",
          "state": {
            "_model_module": "@jupyter-widgets/base",
            "_model_module_version": "1.2.0",
            "_model_name": "LayoutModel",
            "_view_count": null,
            "_view_module": "@jupyter-widgets/base",
            "_view_module_version": "1.2.0",
            "_view_name": "LayoutView",
            "align_content": null,
            "align_items": null,
            "align_self": null,
            "border": null,
            "bottom": null,
            "display": null,
            "flex": null,
            "flex_flow": null,
            "grid_area": null,
            "grid_auto_columns": null,
            "grid_auto_flow": null,
            "grid_auto_rows": null,
            "grid_column": null,
            "grid_gap": null,
            "grid_row": null,
            "grid_template_areas": null,
            "grid_template_columns": null,
            "grid_template_rows": null,
            "height": null,
            "justify_content": null,
            "justify_items": null,
            "left": null,
            "margin": null,
            "max_height": null,
            "max_width": null,
            "min_height": null,
            "min_width": null,
            "object_fit": null,
            "object_position": null,
            "order": null,
            "overflow": null,
            "overflow_x": null,
            "overflow_y": null,
            "padding": null,
            "right": null,
            "top": null,
            "visibility": null,
            "width": null
          }
        },
        "65ccece8ef0c4f8988f96676c886be1f": {
          "model_module": "@jupyter-widgets/controls",
          "model_name": "DescriptionStyleModel",
          "model_module_version": "1.5.0",
          "state": {
            "_model_module": "@jupyter-widgets/controls",
            "_model_module_version": "1.5.0",
            "_model_name": "DescriptionStyleModel",
            "_view_count": null,
            "_view_module": "@jupyter-widgets/base",
            "_view_module_version": "1.2.0",
            "_view_name": "StyleView",
            "description_width": ""
          }
        },
        "9b6e705ce9754c379ee22013a98182bf": {
          "model_module": "@jupyter-widgets/controls",
          "model_name": "HBoxModel",
          "model_module_version": "1.5.0",
          "state": {
            "_dom_classes": [],
            "_model_module": "@jupyter-widgets/controls",
            "_model_module_version": "1.5.0",
            "_model_name": "HBoxModel",
            "_view_count": null,
            "_view_module": "@jupyter-widgets/controls",
            "_view_module_version": "1.5.0",
            "_view_name": "HBoxView",
            "box_style": "",
            "children": [
              "IPY_MODEL_ea73e3d582964d148bd2fdd3388a6b27",
              "IPY_MODEL_cdd608a97bbf4b42bb77a21545f75cba",
              "IPY_MODEL_981ae2a6916746ae9d7cb0a773bcf809"
            ],
            "layout": "IPY_MODEL_f85dbc32aa524e87abb2d26802eb4a15"
          }
        },
        "ea73e3d582964d148bd2fdd3388a6b27": {
          "model_module": "@jupyter-widgets/controls",
          "model_name": "HTMLModel",
          "model_module_version": "1.5.0",
          "state": {
            "_dom_classes": [],
            "_model_module": "@jupyter-widgets/controls",
            "_model_module_version": "1.5.0",
            "_model_name": "HTMLModel",
            "_view_count": null,
            "_view_module": "@jupyter-widgets/controls",
            "_view_module_version": "1.5.0",
            "_view_name": "HTMLView",
            "description": "",
            "description_tooltip": null,
            "layout": "IPY_MODEL_18ade4907f1441b78b9064c8832c27f6",
            "placeholder": "​",
            "style": "IPY_MODEL_329debfd9c3940139877fb83cf67de05",
            "value": "Generating splits...: 100%"
          }
        },
        "cdd608a97bbf4b42bb77a21545f75cba": {
          "model_module": "@jupyter-widgets/controls",
          "model_name": "FloatProgressModel",
          "model_module_version": "1.5.0",
          "state": {
            "_dom_classes": [],
            "_model_module": "@jupyter-widgets/controls",
            "_model_module_version": "1.5.0",
            "_model_name": "FloatProgressModel",
            "_view_count": null,
            "_view_module": "@jupyter-widgets/controls",
            "_view_module_version": "1.5.0",
            "_view_name": "ProgressView",
            "bar_style": "",
            "description": "",
            "description_tooltip": null,
            "layout": "IPY_MODEL_b92a0c025c06468cb0bb582d259b2b90",
            "max": 1,
            "min": 0,
            "orientation": "horizontal",
            "style": "IPY_MODEL_ebd71129b0fa499ab13135a1e980f730",
            "value": 1
          }
        },
        "981ae2a6916746ae9d7cb0a773bcf809": {
          "model_module": "@jupyter-widgets/controls",
          "model_name": "HTMLModel",
          "model_module_version": "1.5.0",
          "state": {
            "_dom_classes": [],
            "_model_module": "@jupyter-widgets/controls",
            "_model_module_version": "1.5.0",
            "_model_name": "HTMLModel",
            "_view_count": null,
            "_view_module": "@jupyter-widgets/controls",
            "_view_module_version": "1.5.0",
            "_view_name": "HTMLView",
            "description": "",
            "description_tooltip": null,
            "layout": "IPY_MODEL_125b211ccbb64381bfd5a53f5fcbd8e9",
            "placeholder": "​",
            "style": "IPY_MODEL_e92be86f53814dbebf470e069eec9b33",
            "value": " 1/1 [00:10&lt;00:00, 10.06s/ splits]"
          }
        },
        "f85dbc32aa524e87abb2d26802eb4a15": {
          "model_module": "@jupyter-widgets/base",
          "model_name": "LayoutModel",
          "model_module_version": "1.2.0",
          "state": {
            "_model_module": "@jupyter-widgets/base",
            "_model_module_version": "1.2.0",
            "_model_name": "LayoutModel",
            "_view_count": null,
            "_view_module": "@jupyter-widgets/base",
            "_view_module_version": "1.2.0",
            "_view_name": "LayoutView",
            "align_content": null,
            "align_items": null,
            "align_self": null,
            "border": null,
            "bottom": null,
            "display": null,
            "flex": null,
            "flex_flow": null,
            "grid_area": null,
            "grid_auto_columns": null,
            "grid_auto_flow": null,
            "grid_auto_rows": null,
            "grid_column": null,
            "grid_gap": null,
            "grid_row": null,
            "grid_template_areas": null,
            "grid_template_columns": null,
            "grid_template_rows": null,
            "height": null,
            "justify_content": null,
            "justify_items": null,
            "left": null,
            "margin": null,
            "max_height": null,
            "max_width": null,
            "min_height": null,
            "min_width": null,
            "object_fit": null,
            "object_position": null,
            "order": null,
            "overflow": null,
            "overflow_x": null,
            "overflow_y": null,
            "padding": null,
            "right": null,
            "top": null,
            "visibility": "hidden",
            "width": null
          }
        },
        "18ade4907f1441b78b9064c8832c27f6": {
          "model_module": "@jupyter-widgets/base",
          "model_name": "LayoutModel",
          "model_module_version": "1.2.0",
          "state": {
            "_model_module": "@jupyter-widgets/base",
            "_model_module_version": "1.2.0",
            "_model_name": "LayoutModel",
            "_view_count": null,
            "_view_module": "@jupyter-widgets/base",
            "_view_module_version": "1.2.0",
            "_view_name": "LayoutView",
            "align_content": null,
            "align_items": null,
            "align_self": null,
            "border": null,
            "bottom": null,
            "display": null,
            "flex": null,
            "flex_flow": null,
            "grid_area": null,
            "grid_auto_columns": null,
            "grid_auto_flow": null,
            "grid_auto_rows": null,
            "grid_column": null,
            "grid_gap": null,
            "grid_row": null,
            "grid_template_areas": null,
            "grid_template_columns": null,
            "grid_template_rows": null,
            "height": null,
            "justify_content": null,
            "justify_items": null,
            "left": null,
            "margin": null,
            "max_height": null,
            "max_width": null,
            "min_height": null,
            "min_width": null,
            "object_fit": null,
            "object_position": null,
            "order": null,
            "overflow": null,
            "overflow_x": null,
            "overflow_y": null,
            "padding": null,
            "right": null,
            "top": null,
            "visibility": null,
            "width": null
          }
        },
        "329debfd9c3940139877fb83cf67de05": {
          "model_module": "@jupyter-widgets/controls",
          "model_name": "DescriptionStyleModel",
          "model_module_version": "1.5.0",
          "state": {
            "_model_module": "@jupyter-widgets/controls",
            "_model_module_version": "1.5.0",
            "_model_name": "DescriptionStyleModel",
            "_view_count": null,
            "_view_module": "@jupyter-widgets/base",
            "_view_module_version": "1.2.0",
            "_view_name": "StyleView",
            "description_width": ""
          }
        },
        "b92a0c025c06468cb0bb582d259b2b90": {
          "model_module": "@jupyter-widgets/base",
          "model_name": "LayoutModel",
          "model_module_version": "1.2.0",
          "state": {
            "_model_module": "@jupyter-widgets/base",
            "_model_module_version": "1.2.0",
            "_model_name": "LayoutModel",
            "_view_count": null,
            "_view_module": "@jupyter-widgets/base",
            "_view_module_version": "1.2.0",
            "_view_name": "LayoutView",
            "align_content": null,
            "align_items": null,
            "align_self": null,
            "border": null,
            "bottom": null,
            "display": null,
            "flex": null,
            "flex_flow": null,
            "grid_area": null,
            "grid_auto_columns": null,
            "grid_auto_flow": null,
            "grid_auto_rows": null,
            "grid_column": null,
            "grid_gap": null,
            "grid_row": null,
            "grid_template_areas": null,
            "grid_template_columns": null,
            "grid_template_rows": null,
            "height": null,
            "justify_content": null,
            "justify_items": null,
            "left": null,
            "margin": null,
            "max_height": null,
            "max_width": null,
            "min_height": null,
            "min_width": null,
            "object_fit": null,
            "object_position": null,
            "order": null,
            "overflow": null,
            "overflow_x": null,
            "overflow_y": null,
            "padding": null,
            "right": null,
            "top": null,
            "visibility": null,
            "width": null
          }
        },
        "ebd71129b0fa499ab13135a1e980f730": {
          "model_module": "@jupyter-widgets/controls",
          "model_name": "ProgressStyleModel",
          "model_module_version": "1.5.0",
          "state": {
            "_model_module": "@jupyter-widgets/controls",
            "_model_module_version": "1.5.0",
            "_model_name": "ProgressStyleModel",
            "_view_count": null,
            "_view_module": "@jupyter-widgets/base",
            "_view_module_version": "1.2.0",
            "_view_name": "StyleView",
            "bar_color": null,
            "description_width": ""
          }
        },
        "125b211ccbb64381bfd5a53f5fcbd8e9": {
          "model_module": "@jupyter-widgets/base",
          "model_name": "LayoutModel",
          "model_module_version": "1.2.0",
          "state": {
            "_model_module": "@jupyter-widgets/base",
            "_model_module_version": "1.2.0",
            "_model_name": "LayoutModel",
            "_view_count": null,
            "_view_module": "@jupyter-widgets/base",
            "_view_module_version": "1.2.0",
            "_view_name": "LayoutView",
            "align_content": null,
            "align_items": null,
            "align_self": null,
            "border": null,
            "bottom": null,
            "display": null,
            "flex": null,
            "flex_flow": null,
            "grid_area": null,
            "grid_auto_columns": null,
            "grid_auto_flow": null,
            "grid_auto_rows": null,
            "grid_column": null,
            "grid_gap": null,
            "grid_row": null,
            "grid_template_areas": null,
            "grid_template_columns": null,
            "grid_template_rows": null,
            "height": null,
            "justify_content": null,
            "justify_items": null,
            "left": null,
            "margin": null,
            "max_height": null,
            "max_width": null,
            "min_height": null,
            "min_width": null,
            "object_fit": null,
            "object_position": null,
            "order": null,
            "overflow": null,
            "overflow_x": null,
            "overflow_y": null,
            "padding": null,
            "right": null,
            "top": null,
            "visibility": null,
            "width": null
          }
        },
        "e92be86f53814dbebf470e069eec9b33": {
          "model_module": "@jupyter-widgets/controls",
          "model_name": "DescriptionStyleModel",
          "model_module_version": "1.5.0",
          "state": {
            "_model_module": "@jupyter-widgets/controls",
            "_model_module_version": "1.5.0",
            "_model_name": "DescriptionStyleModel",
            "_view_count": null,
            "_view_module": "@jupyter-widgets/base",
            "_view_module_version": "1.2.0",
            "_view_name": "StyleView",
            "description_width": ""
          }
        },
        "fd14a1be56ac48ccaf251c5fa8a9caab": {
          "model_module": "@jupyter-widgets/controls",
          "model_name": "HBoxModel",
          "model_module_version": "1.5.0",
          "state": {
            "_dom_classes": [],
            "_model_module": "@jupyter-widgets/controls",
            "_model_module_version": "1.5.0",
            "_model_name": "HBoxModel",
            "_view_count": null,
            "_view_module": "@jupyter-widgets/controls",
            "_view_module_version": "1.5.0",
            "_view_name": "HBoxView",
            "box_style": "",
            "children": [
              "IPY_MODEL_c85f62cf456f4f19b3e7969325c19e0f",
              "IPY_MODEL_dc738684795840b38c5ef8109c11327e",
              "IPY_MODEL_140aef2b6f3446b0aac1a77014a7df5d"
            ],
            "layout": "IPY_MODEL_4e10d6c0204a4932a37354a097a697cd"
          }
        },
        "c85f62cf456f4f19b3e7969325c19e0f": {
          "model_module": "@jupyter-widgets/controls",
          "model_name": "HTMLModel",
          "model_module_version": "1.5.0",
          "state": {
            "_dom_classes": [],
            "_model_module": "@jupyter-widgets/controls",
            "_model_module_version": "1.5.0",
            "_model_name": "HTMLModel",
            "_view_count": null,
            "_view_module": "@jupyter-widgets/controls",
            "_view_module_version": "1.5.0",
            "_view_name": "HTMLView",
            "description": "",
            "description_tooltip": null,
            "layout": "IPY_MODEL_a205e7fee7994711ae2f39940d24fc85",
            "placeholder": "​",
            "style": "IPY_MODEL_6f11940dba9e486f8b8bcd5019c80045",
            "value": "Generating train examples...:  90%"
          }
        },
        "dc738684795840b38c5ef8109c11327e": {
          "model_module": "@jupyter-widgets/controls",
          "model_name": "FloatProgressModel",
          "model_module_version": "1.5.0",
          "state": {
            "_dom_classes": [],
            "_model_module": "@jupyter-widgets/controls",
            "_model_module_version": "1.5.0",
            "_model_name": "FloatProgressModel",
            "_view_count": null,
            "_view_module": "@jupyter-widgets/controls",
            "_view_module_version": "1.5.0",
            "_view_name": "ProgressView",
            "bar_style": "",
            "description": "",
            "description_tooltip": null,
            "layout": "IPY_MODEL_7c9c1217d29f4ac288b75822ec634b16",
            "max": 27558,
            "min": 0,
            "orientation": "horizontal",
            "style": "IPY_MODEL_5dc3e6a3fe1c414f80c9c2f077311634",
            "value": 27558
          }
        },
        "140aef2b6f3446b0aac1a77014a7df5d": {
          "model_module": "@jupyter-widgets/controls",
          "model_name": "HTMLModel",
          "model_module_version": "1.5.0",
          "state": {
            "_dom_classes": [],
            "_model_module": "@jupyter-widgets/controls",
            "_model_module_version": "1.5.0",
            "_model_name": "HTMLModel",
            "_view_count": null,
            "_view_module": "@jupyter-widgets/controls",
            "_view_module_version": "1.5.0",
            "_view_name": "HTMLView",
            "description": "",
            "description_tooltip": null,
            "layout": "IPY_MODEL_18f1aa2b4e0e4f859e5a913926c66514",
            "placeholder": "​",
            "style": "IPY_MODEL_7aa8be51fe7248cbb0354a5edfb09272",
            "value": " 24775/27558 [00:08&lt;00:00, 3031.47 examples/s]"
          }
        },
        "4e10d6c0204a4932a37354a097a697cd": {
          "model_module": "@jupyter-widgets/base",
          "model_name": "LayoutModel",
          "model_module_version": "1.2.0",
          "state": {
            "_model_module": "@jupyter-widgets/base",
            "_model_module_version": "1.2.0",
            "_model_name": "LayoutModel",
            "_view_count": null,
            "_view_module": "@jupyter-widgets/base",
            "_view_module_version": "1.2.0",
            "_view_name": "LayoutView",
            "align_content": null,
            "align_items": null,
            "align_self": null,
            "border": null,
            "bottom": null,
            "display": null,
            "flex": null,
            "flex_flow": null,
            "grid_area": null,
            "grid_auto_columns": null,
            "grid_auto_flow": null,
            "grid_auto_rows": null,
            "grid_column": null,
            "grid_gap": null,
            "grid_row": null,
            "grid_template_areas": null,
            "grid_template_columns": null,
            "grid_template_rows": null,
            "height": null,
            "justify_content": null,
            "justify_items": null,
            "left": null,
            "margin": null,
            "max_height": null,
            "max_width": null,
            "min_height": null,
            "min_width": null,
            "object_fit": null,
            "object_position": null,
            "order": null,
            "overflow": null,
            "overflow_x": null,
            "overflow_y": null,
            "padding": null,
            "right": null,
            "top": null,
            "visibility": "hidden",
            "width": null
          }
        },
        "a205e7fee7994711ae2f39940d24fc85": {
          "model_module": "@jupyter-widgets/base",
          "model_name": "LayoutModel",
          "model_module_version": "1.2.0",
          "state": {
            "_model_module": "@jupyter-widgets/base",
            "_model_module_version": "1.2.0",
            "_model_name": "LayoutModel",
            "_view_count": null,
            "_view_module": "@jupyter-widgets/base",
            "_view_module_version": "1.2.0",
            "_view_name": "LayoutView",
            "align_content": null,
            "align_items": null,
            "align_self": null,
            "border": null,
            "bottom": null,
            "display": null,
            "flex": null,
            "flex_flow": null,
            "grid_area": null,
            "grid_auto_columns": null,
            "grid_auto_flow": null,
            "grid_auto_rows": null,
            "grid_column": null,
            "grid_gap": null,
            "grid_row": null,
            "grid_template_areas": null,
            "grid_template_columns": null,
            "grid_template_rows": null,
            "height": null,
            "justify_content": null,
            "justify_items": null,
            "left": null,
            "margin": null,
            "max_height": null,
            "max_width": null,
            "min_height": null,
            "min_width": null,
            "object_fit": null,
            "object_position": null,
            "order": null,
            "overflow": null,
            "overflow_x": null,
            "overflow_y": null,
            "padding": null,
            "right": null,
            "top": null,
            "visibility": null,
            "width": null
          }
        },
        "6f11940dba9e486f8b8bcd5019c80045": {
          "model_module": "@jupyter-widgets/controls",
          "model_name": "DescriptionStyleModel",
          "model_module_version": "1.5.0",
          "state": {
            "_model_module": "@jupyter-widgets/controls",
            "_model_module_version": "1.5.0",
            "_model_name": "DescriptionStyleModel",
            "_view_count": null,
            "_view_module": "@jupyter-widgets/base",
            "_view_module_version": "1.2.0",
            "_view_name": "StyleView",
            "description_width": ""
          }
        },
        "7c9c1217d29f4ac288b75822ec634b16": {
          "model_module": "@jupyter-widgets/base",
          "model_name": "LayoutModel",
          "model_module_version": "1.2.0",
          "state": {
            "_model_module": "@jupyter-widgets/base",
            "_model_module_version": "1.2.0",
            "_model_name": "LayoutModel",
            "_view_count": null,
            "_view_module": "@jupyter-widgets/base",
            "_view_module_version": "1.2.0",
            "_view_name": "LayoutView",
            "align_content": null,
            "align_items": null,
            "align_self": null,
            "border": null,
            "bottom": null,
            "display": null,
            "flex": null,
            "flex_flow": null,
            "grid_area": null,
            "grid_auto_columns": null,
            "grid_auto_flow": null,
            "grid_auto_rows": null,
            "grid_column": null,
            "grid_gap": null,
            "grid_row": null,
            "grid_template_areas": null,
            "grid_template_columns": null,
            "grid_template_rows": null,
            "height": null,
            "justify_content": null,
            "justify_items": null,
            "left": null,
            "margin": null,
            "max_height": null,
            "max_width": null,
            "min_height": null,
            "min_width": null,
            "object_fit": null,
            "object_position": null,
            "order": null,
            "overflow": null,
            "overflow_x": null,
            "overflow_y": null,
            "padding": null,
            "right": null,
            "top": null,
            "visibility": null,
            "width": null
          }
        },
        "5dc3e6a3fe1c414f80c9c2f077311634": {
          "model_module": "@jupyter-widgets/controls",
          "model_name": "ProgressStyleModel",
          "model_module_version": "1.5.0",
          "state": {
            "_model_module": "@jupyter-widgets/controls",
            "_model_module_version": "1.5.0",
            "_model_name": "ProgressStyleModel",
            "_view_count": null,
            "_view_module": "@jupyter-widgets/base",
            "_view_module_version": "1.2.0",
            "_view_name": "StyleView",
            "bar_color": null,
            "description_width": ""
          }
        },
        "18f1aa2b4e0e4f859e5a913926c66514": {
          "model_module": "@jupyter-widgets/base",
          "model_name": "LayoutModel",
          "model_module_version": "1.2.0",
          "state": {
            "_model_module": "@jupyter-widgets/base",
            "_model_module_version": "1.2.0",
            "_model_name": "LayoutModel",
            "_view_count": null,
            "_view_module": "@jupyter-widgets/base",
            "_view_module_version": "1.2.0",
            "_view_name": "LayoutView",
            "align_content": null,
            "align_items": null,
            "align_self": null,
            "border": null,
            "bottom": null,
            "display": null,
            "flex": null,
            "flex_flow": null,
            "grid_area": null,
            "grid_auto_columns": null,
            "grid_auto_flow": null,
            "grid_auto_rows": null,
            "grid_column": null,
            "grid_gap": null,
            "grid_row": null,
            "grid_template_areas": null,
            "grid_template_columns": null,
            "grid_template_rows": null,
            "height": null,
            "justify_content": null,
            "justify_items": null,
            "left": null,
            "margin": null,
            "max_height": null,
            "max_width": null,
            "min_height": null,
            "min_width": null,
            "object_fit": null,
            "object_position": null,
            "order": null,
            "overflow": null,
            "overflow_x": null,
            "overflow_y": null,
            "padding": null,
            "right": null,
            "top": null,
            "visibility": null,
            "width": null
          }
        },
        "7aa8be51fe7248cbb0354a5edfb09272": {
          "model_module": "@jupyter-widgets/controls",
          "model_name": "DescriptionStyleModel",
          "model_module_version": "1.5.0",
          "state": {
            "_model_module": "@jupyter-widgets/controls",
            "_model_module_version": "1.5.0",
            "_model_name": "DescriptionStyleModel",
            "_view_count": null,
            "_view_module": "@jupyter-widgets/base",
            "_view_module_version": "1.2.0",
            "_view_name": "StyleView",
            "description_width": ""
          }
        },
        "6c08d4ec29ef406ea61a842e27ab30e6": {
          "model_module": "@jupyter-widgets/controls",
          "model_name": "HBoxModel",
          "model_module_version": "1.5.0",
          "state": {
            "_dom_classes": [],
            "_model_module": "@jupyter-widgets/controls",
            "_model_module_version": "1.5.0",
            "_model_name": "HBoxModel",
            "_view_count": null,
            "_view_module": "@jupyter-widgets/controls",
            "_view_module_version": "1.5.0",
            "_view_name": "HBoxView",
            "box_style": "",
            "children": [
              "IPY_MODEL_125f169166874b6c923d0560d1cd5875",
              "IPY_MODEL_65c61ea2d8cc445f8b79ed4019df0d96",
              "IPY_MODEL_ae95ceb6a8734a42b34747ceedf5fef8"
            ],
            "layout": "IPY_MODEL_954b20543f0d4230b9df035ea6f3935f"
          }
        },
        "125f169166874b6c923d0560d1cd5875": {
          "model_module": "@jupyter-widgets/controls",
          "model_name": "HTMLModel",
          "model_module_version": "1.5.0",
          "state": {
            "_dom_classes": [],
            "_model_module": "@jupyter-widgets/controls",
            "_model_module_version": "1.5.0",
            "_model_name": "HTMLModel",
            "_view_count": null,
            "_view_module": "@jupyter-widgets/controls",
            "_view_module_version": "1.5.0",
            "_view_name": "HTMLView",
            "description": "",
            "description_tooltip": null,
            "layout": "IPY_MODEL_5230e37a3dff48848819a31810758c43",
            "placeholder": "​",
            "style": "IPY_MODEL_99c0baade6884e39a6b9b3d971573614",
            "value": "Shuffling /root/tensorflow_datasets/malaria/1.0.0.incompleteL76R96/malaria-train.tfrecord*...:  94%"
          }
        },
        "65c61ea2d8cc445f8b79ed4019df0d96": {
          "model_module": "@jupyter-widgets/controls",
          "model_name": "FloatProgressModel",
          "model_module_version": "1.5.0",
          "state": {
            "_dom_classes": [],
            "_model_module": "@jupyter-widgets/controls",
            "_model_module_version": "1.5.0",
            "_model_name": "FloatProgressModel",
            "_view_count": null,
            "_view_module": "@jupyter-widgets/controls",
            "_view_module_version": "1.5.0",
            "_view_name": "ProgressView",
            "bar_style": "",
            "description": "",
            "description_tooltip": null,
            "layout": "IPY_MODEL_3f0b497392a84fc8b65489e0711070e4",
            "max": 27558,
            "min": 0,
            "orientation": "horizontal",
            "style": "IPY_MODEL_20afddd87319499a93c9d5fdc4220dea",
            "value": 27558
          }
        },
        "ae95ceb6a8734a42b34747ceedf5fef8": {
          "model_module": "@jupyter-widgets/controls",
          "model_name": "HTMLModel",
          "model_module_version": "1.5.0",
          "state": {
            "_dom_classes": [],
            "_model_module": "@jupyter-widgets/controls",
            "_model_module_version": "1.5.0",
            "_model_name": "HTMLModel",
            "_view_count": null,
            "_view_module": "@jupyter-widgets/controls",
            "_view_module_version": "1.5.0",
            "_view_name": "HTMLView",
            "description": "",
            "description_tooltip": null,
            "layout": "IPY_MODEL_8ba89d41ddf2443aa14c987a5fc18f6a",
            "placeholder": "​",
            "style": "IPY_MODEL_06b309c9ed614fa1a440c859ec4c65b3",
            "value": " 25851/27558 [00:00&lt;00:00, 29395.72 examples/s]"
          }
        },
        "954b20543f0d4230b9df035ea6f3935f": {
          "model_module": "@jupyter-widgets/base",
          "model_name": "LayoutModel",
          "model_module_version": "1.2.0",
          "state": {
            "_model_module": "@jupyter-widgets/base",
            "_model_module_version": "1.2.0",
            "_model_name": "LayoutModel",
            "_view_count": null,
            "_view_module": "@jupyter-widgets/base",
            "_view_module_version": "1.2.0",
            "_view_name": "LayoutView",
            "align_content": null,
            "align_items": null,
            "align_self": null,
            "border": null,
            "bottom": null,
            "display": null,
            "flex": null,
            "flex_flow": null,
            "grid_area": null,
            "grid_auto_columns": null,
            "grid_auto_flow": null,
            "grid_auto_rows": null,
            "grid_column": null,
            "grid_gap": null,
            "grid_row": null,
            "grid_template_areas": null,
            "grid_template_columns": null,
            "grid_template_rows": null,
            "height": null,
            "justify_content": null,
            "justify_items": null,
            "left": null,
            "margin": null,
            "max_height": null,
            "max_width": null,
            "min_height": null,
            "min_width": null,
            "object_fit": null,
            "object_position": null,
            "order": null,
            "overflow": null,
            "overflow_x": null,
            "overflow_y": null,
            "padding": null,
            "right": null,
            "top": null,
            "visibility": "hidden",
            "width": null
          }
        },
        "5230e37a3dff48848819a31810758c43": {
          "model_module": "@jupyter-widgets/base",
          "model_name": "LayoutModel",
          "model_module_version": "1.2.0",
          "state": {
            "_model_module": "@jupyter-widgets/base",
            "_model_module_version": "1.2.0",
            "_model_name": "LayoutModel",
            "_view_count": null,
            "_view_module": "@jupyter-widgets/base",
            "_view_module_version": "1.2.0",
            "_view_name": "LayoutView",
            "align_content": null,
            "align_items": null,
            "align_self": null,
            "border": null,
            "bottom": null,
            "display": null,
            "flex": null,
            "flex_flow": null,
            "grid_area": null,
            "grid_auto_columns": null,
            "grid_auto_flow": null,
            "grid_auto_rows": null,
            "grid_column": null,
            "grid_gap": null,
            "grid_row": null,
            "grid_template_areas": null,
            "grid_template_columns": null,
            "grid_template_rows": null,
            "height": null,
            "justify_content": null,
            "justify_items": null,
            "left": null,
            "margin": null,
            "max_height": null,
            "max_width": null,
            "min_height": null,
            "min_width": null,
            "object_fit": null,
            "object_position": null,
            "order": null,
            "overflow": null,
            "overflow_x": null,
            "overflow_y": null,
            "padding": null,
            "right": null,
            "top": null,
            "visibility": null,
            "width": null
          }
        },
        "99c0baade6884e39a6b9b3d971573614": {
          "model_module": "@jupyter-widgets/controls",
          "model_name": "DescriptionStyleModel",
          "model_module_version": "1.5.0",
          "state": {
            "_model_module": "@jupyter-widgets/controls",
            "_model_module_version": "1.5.0",
            "_model_name": "DescriptionStyleModel",
            "_view_count": null,
            "_view_module": "@jupyter-widgets/base",
            "_view_module_version": "1.2.0",
            "_view_name": "StyleView",
            "description_width": ""
          }
        },
        "3f0b497392a84fc8b65489e0711070e4": {
          "model_module": "@jupyter-widgets/base",
          "model_name": "LayoutModel",
          "model_module_version": "1.2.0",
          "state": {
            "_model_module": "@jupyter-widgets/base",
            "_model_module_version": "1.2.0",
            "_model_name": "LayoutModel",
            "_view_count": null,
            "_view_module": "@jupyter-widgets/base",
            "_view_module_version": "1.2.0",
            "_view_name": "LayoutView",
            "align_content": null,
            "align_items": null,
            "align_self": null,
            "border": null,
            "bottom": null,
            "display": null,
            "flex": null,
            "flex_flow": null,
            "grid_area": null,
            "grid_auto_columns": null,
            "grid_auto_flow": null,
            "grid_auto_rows": null,
            "grid_column": null,
            "grid_gap": null,
            "grid_row": null,
            "grid_template_areas": null,
            "grid_template_columns": null,
            "grid_template_rows": null,
            "height": null,
            "justify_content": null,
            "justify_items": null,
            "left": null,
            "margin": null,
            "max_height": null,
            "max_width": null,
            "min_height": null,
            "min_width": null,
            "object_fit": null,
            "object_position": null,
            "order": null,
            "overflow": null,
            "overflow_x": null,
            "overflow_y": null,
            "padding": null,
            "right": null,
            "top": null,
            "visibility": null,
            "width": null
          }
        },
        "20afddd87319499a93c9d5fdc4220dea": {
          "model_module": "@jupyter-widgets/controls",
          "model_name": "ProgressStyleModel",
          "model_module_version": "1.5.0",
          "state": {
            "_model_module": "@jupyter-widgets/controls",
            "_model_module_version": "1.5.0",
            "_model_name": "ProgressStyleModel",
            "_view_count": null,
            "_view_module": "@jupyter-widgets/base",
            "_view_module_version": "1.2.0",
            "_view_name": "StyleView",
            "bar_color": null,
            "description_width": ""
          }
        },
        "8ba89d41ddf2443aa14c987a5fc18f6a": {
          "model_module": "@jupyter-widgets/base",
          "model_name": "LayoutModel",
          "model_module_version": "1.2.0",
          "state": {
            "_model_module": "@jupyter-widgets/base",
            "_model_module_version": "1.2.0",
            "_model_name": "LayoutModel",
            "_view_count": null,
            "_view_module": "@jupyter-widgets/base",
            "_view_module_version": "1.2.0",
            "_view_name": "LayoutView",
            "align_content": null,
            "align_items": null,
            "align_self": null,
            "border": null,
            "bottom": null,
            "display": null,
            "flex": null,
            "flex_flow": null,
            "grid_area": null,
            "grid_auto_columns": null,
            "grid_auto_flow": null,
            "grid_auto_rows": null,
            "grid_column": null,
            "grid_gap": null,
            "grid_row": null,
            "grid_template_areas": null,
            "grid_template_columns": null,
            "grid_template_rows": null,
            "height": null,
            "justify_content": null,
            "justify_items": null,
            "left": null,
            "margin": null,
            "max_height": null,
            "max_width": null,
            "min_height": null,
            "min_width": null,
            "object_fit": null,
            "object_position": null,
            "order": null,
            "overflow": null,
            "overflow_x": null,
            "overflow_y": null,
            "padding": null,
            "right": null,
            "top": null,
            "visibility": null,
            "width": null
          }
        },
        "06b309c9ed614fa1a440c859ec4c65b3": {
          "model_module": "@jupyter-widgets/controls",
          "model_name": "DescriptionStyleModel",
          "model_module_version": "1.5.0",
          "state": {
            "_model_module": "@jupyter-widgets/controls",
            "_model_module_version": "1.5.0",
            "_model_name": "DescriptionStyleModel",
            "_view_count": null,
            "_view_module": "@jupyter-widgets/base",
            "_view_module_version": "1.2.0",
            "_view_name": "StyleView",
            "description_width": ""
          }
        }
      }
    }
  },
  "cells": [
    {
      "cell_type": "markdown",
      "metadata": {
        "id": "view-in-github",
        "colab_type": "text"
      },
      "source": [
        "<a href=\"https://colab.research.google.com/github/Deepspacee12/Malaria_prediction/blob/main/Malaria.ipynb\" target=\"_parent\"><img src=\"https://colab.research.google.com/assets/colab-badge.svg\" alt=\"Open In Colab\"/></a>"
      ]
    },
    {
      "cell_type": "code",
      "execution_count": 1,
      "metadata": {
        "id": "wdoMefVEUZyc"
      },
      "outputs": [],
      "source": [
        "import tensorflow as tf\n",
        "import numpy as np\n",
        "import matplotlib.pyplot as plt\n",
        "import tensorflow_datasets as tfds\n",
        "from tensorflow.keras.layers import Normalization, Dense, InputLayer,BatchNormalization\n",
        "from tensorflow.keras.losses import MeanSquaredError, Huber, MeanAbsoluteError\n",
        "from tensorflow.keras.metrics import RootMeanSquaredError\n",
        "from tensorflow.keras.optimizers import Adam\n",
        "from tensorflow.keras.layers import Conv2D,MaxPool2D,Flatten\n",
        "from tensorflow.keras.losses import BinaryCrossentropy"
      ]
    },
    {
      "cell_type": "code",
      "execution_count": 2,
      "metadata": {
        "colab": {
          "base_uri": "https://localhost:8080/",
          "height": 149,
          "referenced_widgets": [
            "11d21562625546b581008f8f4a5da7ae",
            "1111ef187e814ab789eaac9e572bdf2e",
            "921b42e6cc37487ab21c6984b6896a40",
            "5d5c0cdecd454edfb12e002f500a8a0a",
            "22af3c59d1b64d958a3bbccc745308a4",
            "89b18e3fc7984561820084b84af7eaf6",
            "f6283b9583f240b0914b1820b2aedebf",
            "18cc1f5fd38c4df09876fdfb3da717cc",
            "bc7d7caaebed438eb960b912e0af1de8",
            "7a98de31a66f45c0bceea466baa7b9d4",
            "718271de6c2541d591c124937a6a4679",
            "8773784749ee45a2a08a39359110ff48",
            "e19d0eb10e024a2c810ba3648791707c",
            "9a7b8f0cfd45446e92b6e413dc51c8ed",
            "bc67f111890a4551971b7c0ec1ca4f28",
            "ae92b10d03f84539a7db6af70a6ff03f",
            "c4aba227e5214151bfd3cbf9be6a50cf",
            "b8851f674b7a4742afcf9f5a3f7f15bb",
            "a4b75923e8124659bf5f1fc73b67d901",
            "e6587524e7de4964aa8d41bb3d414bae",
            "03a61b5fe2ab478fbb0fe82121f64f65",
            "c46891799dfa4897b78c0a5fe39871c3",
            "aa952c99c56b4f1fbe671b6223590731",
            "4b6ccf645b334d34940b644a18b3a4b2",
            "62c422990acb4c0cadb2af1ebf0ec17b",
            "d7510eaccad141fc83a1ce2577c9d550",
            "6ee3c62358c14fb88f2a02a1036440cb",
            "e6dadc24df51469f8170d890b6e9748b",
            "13b79e17aa914d3db16c344547cbb2ff",
            "381cca87a76f42399c61a3d18641ef02",
            "e4ce241e4ff44d54b5d5894c65d7bc39",
            "9131b0ab0c9c4c82ade61f6ce3dfe99a",
            "65ccece8ef0c4f8988f96676c886be1f",
            "9b6e705ce9754c379ee22013a98182bf",
            "ea73e3d582964d148bd2fdd3388a6b27",
            "cdd608a97bbf4b42bb77a21545f75cba",
            "981ae2a6916746ae9d7cb0a773bcf809",
            "f85dbc32aa524e87abb2d26802eb4a15",
            "18ade4907f1441b78b9064c8832c27f6",
            "329debfd9c3940139877fb83cf67de05",
            "b92a0c025c06468cb0bb582d259b2b90",
            "ebd71129b0fa499ab13135a1e980f730",
            "125b211ccbb64381bfd5a53f5fcbd8e9",
            "e92be86f53814dbebf470e069eec9b33",
            "fd14a1be56ac48ccaf251c5fa8a9caab",
            "c85f62cf456f4f19b3e7969325c19e0f",
            "dc738684795840b38c5ef8109c11327e",
            "140aef2b6f3446b0aac1a77014a7df5d",
            "4e10d6c0204a4932a37354a097a697cd",
            "a205e7fee7994711ae2f39940d24fc85",
            "6f11940dba9e486f8b8bcd5019c80045",
            "7c9c1217d29f4ac288b75822ec634b16",
            "5dc3e6a3fe1c414f80c9c2f077311634",
            "18f1aa2b4e0e4f859e5a913926c66514",
            "7aa8be51fe7248cbb0354a5edfb09272",
            "6c08d4ec29ef406ea61a842e27ab30e6",
            "125f169166874b6c923d0560d1cd5875",
            "65c61ea2d8cc445f8b79ed4019df0d96",
            "ae95ceb6a8734a42b34747ceedf5fef8",
            "954b20543f0d4230b9df035ea6f3935f",
            "5230e37a3dff48848819a31810758c43",
            "99c0baade6884e39a6b9b3d971573614",
            "3f0b497392a84fc8b65489e0711070e4",
            "20afddd87319499a93c9d5fdc4220dea",
            "8ba89d41ddf2443aa14c987a5fc18f6a",
            "06b309c9ed614fa1a440c859ec4c65b3"
          ]
        },
        "id": "7YB9aN3uS7PC",
        "outputId": "5f20880c-432a-403a-9ade-a4a0a4bce84f"
      },
      "outputs": [
        {
          "output_type": "stream",
          "name": "stdout",
          "text": [
            "Downloading and preparing dataset 337.08 MiB (download: 337.08 MiB, generated: Unknown size, total: 337.08 MiB) to /root/tensorflow_datasets/malaria/1.0.0...\n"
          ]
        },
        {
          "output_type": "display_data",
          "data": {
            "text/plain": [
              "Dl Completed...: 0 url [00:00, ? url/s]"
            ],
            "application/vnd.jupyter.widget-view+json": {
              "version_major": 2,
              "version_minor": 0,
              "model_id": "11d21562625546b581008f8f4a5da7ae"
            }
          },
          "metadata": {}
        },
        {
          "output_type": "display_data",
          "data": {
            "text/plain": [
              "Dl Size...: 0 MiB [00:00, ? MiB/s]"
            ],
            "application/vnd.jupyter.widget-view+json": {
              "version_major": 2,
              "version_minor": 0,
              "model_id": "8773784749ee45a2a08a39359110ff48"
            }
          },
          "metadata": {}
        },
        {
          "output_type": "display_data",
          "data": {
            "text/plain": [
              "Extraction completed...: 0 file [00:00, ? file/s]"
            ],
            "application/vnd.jupyter.widget-view+json": {
              "version_major": 2,
              "version_minor": 0,
              "model_id": "aa952c99c56b4f1fbe671b6223590731"
            }
          },
          "metadata": {}
        },
        {
          "output_type": "display_data",
          "data": {
            "text/plain": [
              "Generating splits...:   0%|          | 0/1 [00:00<?, ? splits/s]"
            ],
            "application/vnd.jupyter.widget-view+json": {
              "version_major": 2,
              "version_minor": 0,
              "model_id": "9b6e705ce9754c379ee22013a98182bf"
            }
          },
          "metadata": {}
        },
        {
          "output_type": "display_data",
          "data": {
            "text/plain": [
              "Generating train examples...:   0%|          | 0/27558 [00:00<?, ? examples/s]"
            ],
            "application/vnd.jupyter.widget-view+json": {
              "version_major": 2,
              "version_minor": 0,
              "model_id": "fd14a1be56ac48ccaf251c5fa8a9caab"
            }
          },
          "metadata": {}
        },
        {
          "output_type": "display_data",
          "data": {
            "text/plain": [
              "Shuffling /root/tensorflow_datasets/malaria/1.0.0.incompleteL76R96/malaria-train.tfrecord*...:   0%|          …"
            ],
            "application/vnd.jupyter.widget-view+json": {
              "version_major": 2,
              "version_minor": 0,
              "model_id": "6c08d4ec29ef406ea61a842e27ab30e6"
            }
          },
          "metadata": {}
        },
        {
          "output_type": "stream",
          "name": "stdout",
          "text": [
            "Dataset malaria downloaded and prepared to /root/tensorflow_datasets/malaria/1.0.0. Subsequent calls will reuse this data.\n"
          ]
        }
      ],
      "source": [
        "dataset, dataset_info = tfds.load('malaria', with_info=True , as_supervised= True , shuffle_files= True , split=['train'])"
      ]
    },
    {
      "cell_type": "code",
      "execution_count": 3,
      "metadata": {
        "colab": {
          "base_uri": "https://localhost:8080/"
        },
        "id": "sBnwUEjeVpWH",
        "outputId": "a093b502-4335-4c63-a1e2-38df4941fcaa"
      },
      "outputs": [
        {
          "output_type": "execute_result",
          "data": {
            "text/plain": [
              "[<_PrefetchDataset element_spec=(TensorSpec(shape=(None, None, 3), dtype=tf.uint8, name=None), TensorSpec(shape=(), dtype=tf.int64, name=None))>]"
            ]
          },
          "metadata": {},
          "execution_count": 3
        }
      ],
      "source": [
        "dataset"
      ]
    },
    {
      "cell_type": "code",
      "execution_count": 4,
      "metadata": {
        "colab": {
          "base_uri": "https://localhost:8080/"
        },
        "id": "0LT441ecWx3h",
        "outputId": "667ee5ec-65a1-4d75-f2dc-1ebd9c784c76"
      },
      "outputs": [
        {
          "output_type": "execute_result",
          "data": {
            "text/plain": [
              "tfds.core.DatasetInfo(\n",
              "    name='malaria',\n",
              "    full_name='malaria/1.0.0',\n",
              "    description=\"\"\"\n",
              "    The Malaria dataset contains a total of 27,558 cell images with equal instances\n",
              "    of parasitized and uninfected cells from the thin blood smear slide images of\n",
              "    segmented cells.\n",
              "    \"\"\",\n",
              "    homepage='https://lhncbc.nlm.nih.gov/publication/pub9932',\n",
              "    data_dir=PosixGPath('/tmp/tmpvm8jtntntfds'),\n",
              "    file_format=tfrecord,\n",
              "    download_size=337.08 MiB,\n",
              "    dataset_size=317.62 MiB,\n",
              "    features=FeaturesDict({\n",
              "        'image': Image(shape=(None, None, 3), dtype=uint8),\n",
              "        'label': ClassLabel(shape=(), dtype=int64, num_classes=2),\n",
              "    }),\n",
              "    supervised_keys=('image', 'label'),\n",
              "    disable_shuffling=False,\n",
              "    splits={\n",
              "        'train': <SplitInfo num_examples=27558, num_shards=4>,\n",
              "    },\n",
              "    citation=\"\"\"@article{rajaraman2018pre,\n",
              "      title={Pre-trained convolutional neural networks as feature extractors toward\n",
              "      improved malaria parasite detection in thin blood smear images},\n",
              "      author={Rajaraman, Sivaramakrishnan and Antani, Sameer K and Poostchi, Mahdieh\n",
              "      and Silamut, Kamolrat and Hossain, Md A and Maude, Richard J and Jaeger,\n",
              "      Stefan and Thoma, George R},\n",
              "      journal={PeerJ},\n",
              "      volume={6},\n",
              "      pages={e4568},\n",
              "      year={2018},\n",
              "      publisher={PeerJ Inc.}\n",
              "    }\"\"\",\n",
              ")"
            ]
          },
          "metadata": {},
          "execution_count": 4
        }
      ],
      "source": [
        "dataset_info"
      ]
    },
    {
      "cell_type": "markdown",
      "metadata": {
        "id": "D8_y8q3ldSk6"
      },
      "source": [
        "**Train test split**\n"
      ]
    },
    {
      "cell_type": "code",
      "execution_count": 5,
      "metadata": {
        "id": "-zQtyCkRax8Z"
      },
      "outputs": [],
      "source": [
        "\n",
        "def split(dataset, TRAIN_RATIO, VAL_RATIO, TEST_RATIO):\n",
        "  dataset_size = len(dataset)\n",
        "  Train_dataset = dataset.take(int(TRAIN_RATIO*dataset_size))\n",
        "\n",
        "\n",
        "  Val_test_dataset = dataset.skip(int(TRAIN_RATIO*dataset_size))\n",
        "  Val_dataset = Val_test_dataset.take(int(VAL_RATIO*dataset_size))\n",
        "\n",
        "\n",
        "  Test_dataset = Val_test_dataset.skip(int(TEST_RATIO*dataset_size))\n",
        "  return Train_dataset , Val_dataset , Test_dataset\n"
      ]
    },
    {
      "cell_type": "code",
      "execution_count": 6,
      "metadata": {
        "colab": {
          "base_uri": "https://localhost:8080/"
        },
        "id": "akiEu3AmflDE",
        "outputId": "4ceaf704-ce73-42c5-9c68-954014b7b532"
      },
      "outputs": [
        {
          "output_type": "stream",
          "name": "stdout",
          "text": [
            "[(array([[[0, 0, 0],\n",
            "        [0, 0, 0],\n",
            "        [0, 0, 0],\n",
            "        ...,\n",
            "        [0, 0, 0],\n",
            "        [0, 0, 0],\n",
            "        [0, 0, 0]],\n",
            "\n",
            "       [[0, 0, 0],\n",
            "        [0, 0, 0],\n",
            "        [0, 0, 0],\n",
            "        ...,\n",
            "        [0, 0, 0],\n",
            "        [0, 0, 0],\n",
            "        [0, 0, 0]],\n",
            "\n",
            "       [[0, 0, 0],\n",
            "        [0, 0, 0],\n",
            "        [0, 0, 0],\n",
            "        ...,\n",
            "        [0, 0, 0],\n",
            "        [0, 0, 0],\n",
            "        [0, 0, 0]],\n",
            "\n",
            "       ...,\n",
            "\n",
            "       [[0, 0, 0],\n",
            "        [0, 0, 0],\n",
            "        [0, 0, 0],\n",
            "        ...,\n",
            "        [0, 0, 0],\n",
            "        [0, 0, 0],\n",
            "        [0, 0, 0]],\n",
            "\n",
            "       [[0, 0, 0],\n",
            "        [0, 0, 0],\n",
            "        [0, 0, 0],\n",
            "        ...,\n",
            "        [0, 0, 0],\n",
            "        [0, 0, 0],\n",
            "        [0, 0, 0]],\n",
            "\n",
            "       [[0, 0, 0],\n",
            "        [0, 0, 0],\n",
            "        [0, 0, 0],\n",
            "        ...,\n",
            "        [0, 0, 0],\n",
            "        [0, 0, 0],\n",
            "        [0, 0, 0]]], dtype=uint8), 1)] [(array([[[0, 0, 0],\n",
            "        [0, 0, 0],\n",
            "        [0, 0, 0],\n",
            "        ...,\n",
            "        [0, 0, 0],\n",
            "        [0, 0, 0],\n",
            "        [0, 0, 0]],\n",
            "\n",
            "       [[0, 0, 0],\n",
            "        [0, 0, 0],\n",
            "        [0, 0, 0],\n",
            "        ...,\n",
            "        [0, 0, 0],\n",
            "        [0, 0, 0],\n",
            "        [0, 0, 0]],\n",
            "\n",
            "       [[0, 0, 0],\n",
            "        [0, 0, 0],\n",
            "        [0, 0, 0],\n",
            "        ...,\n",
            "        [0, 0, 0],\n",
            "        [0, 0, 0],\n",
            "        [0, 0, 0]],\n",
            "\n",
            "       ...,\n",
            "\n",
            "       [[0, 0, 0],\n",
            "        [0, 0, 0],\n",
            "        [0, 0, 0],\n",
            "        ...,\n",
            "        [0, 0, 0],\n",
            "        [0, 0, 0],\n",
            "        [0, 0, 0]],\n",
            "\n",
            "       [[0, 0, 0],\n",
            "        [0, 0, 0],\n",
            "        [0, 0, 0],\n",
            "        ...,\n",
            "        [0, 0, 0],\n",
            "        [0, 0, 0],\n",
            "        [0, 0, 0]],\n",
            "\n",
            "       [[0, 0, 0],\n",
            "        [0, 0, 0],\n",
            "        [0, 0, 0],\n",
            "        ...,\n",
            "        [0, 0, 0],\n",
            "        [0, 0, 0],\n",
            "        [0, 0, 0]]], dtype=uint8), 0)] [(array([[[0, 0, 0],\n",
            "        [0, 0, 0],\n",
            "        [0, 0, 0],\n",
            "        ...,\n",
            "        [0, 0, 0],\n",
            "        [0, 0, 0],\n",
            "        [0, 0, 0]],\n",
            "\n",
            "       [[0, 0, 0],\n",
            "        [0, 0, 0],\n",
            "        [0, 0, 0],\n",
            "        ...,\n",
            "        [0, 0, 0],\n",
            "        [0, 0, 0],\n",
            "        [0, 0, 0]],\n",
            "\n",
            "       [[0, 0, 0],\n",
            "        [0, 0, 0],\n",
            "        [0, 0, 0],\n",
            "        ...,\n",
            "        [0, 0, 0],\n",
            "        [0, 0, 0],\n",
            "        [0, 0, 0]],\n",
            "\n",
            "       ...,\n",
            "\n",
            "       [[0, 0, 0],\n",
            "        [0, 0, 0],\n",
            "        [0, 0, 0],\n",
            "        ...,\n",
            "        [0, 0, 0],\n",
            "        [0, 0, 0],\n",
            "        [0, 0, 0]],\n",
            "\n",
            "       [[0, 0, 0],\n",
            "        [0, 0, 0],\n",
            "        [0, 0, 0],\n",
            "        ...,\n",
            "        [0, 0, 0],\n",
            "        [0, 0, 0],\n",
            "        [0, 0, 0]],\n",
            "\n",
            "       [[0, 0, 0],\n",
            "        [0, 0, 0],\n",
            "        [0, 0, 0],\n",
            "        ...,\n",
            "        [0, 0, 0],\n",
            "        [0, 0, 0],\n",
            "        [0, 0, 0]]], dtype=uint8), 0)]\n"
          ]
        }
      ],
      "source": [
        "TRAIN_RATIO= 0.8\n",
        "VAL_RATIO = 0.1\n",
        "TEST_RATIO = 0.1\n",
        "Train_dataset,Val_dataset,Test_dataset = split(dataset[0],TRAIN_RATIO,VAL_RATIO,TEST_RATIO)\n",
        "print(list(Train_dataset.take(1).as_numpy_iterator()),list(Val_dataset.take(1).as_numpy_iterator()),list(Test_dataset.take(1).as_numpy_iterator()))"
      ]
    },
    {
      "cell_type": "markdown",
      "metadata": {
        "id": "Bckqb7HBihNE"
      },
      "source": [
        "**Visulizing data**"
      ]
    },
    {
      "cell_type": "code",
      "execution_count": 35,
      "metadata": {
        "colab": {
          "base_uri": "https://localhost:8080/",
          "height": 511
        },
        "id": "jnnIUeu6Wx96",
        "outputId": "fcace2a0-2049-478f-e845-0b842eb4c81c"
      },
      "outputs": [
        {
          "output_type": "error",
          "ename": "TypeError",
          "evalue": "ignored",
          "traceback": [
            "\u001b[0;31m---------------------------------------------------------------------------\u001b[0m",
            "\u001b[0;31mTypeError\u001b[0m                                 Traceback (most recent call last)",
            "\u001b[0;32m<ipython-input-35-6e803156b7bb>\u001b[0m in \u001b[0;36m<cell line: 1>\u001b[0;34m()\u001b[0m\n\u001b[1;32m      1\u001b[0m \u001b[0;32mfor\u001b[0m \u001b[0mi\u001b[0m\u001b[0;34m,\u001b[0m \u001b[0;34m(\u001b[0m\u001b[0mimage\u001b[0m\u001b[0;34m,\u001b[0m\u001b[0mlabel\u001b[0m\u001b[0;34m)\u001b[0m \u001b[0;32min\u001b[0m \u001b[0menumerate\u001b[0m\u001b[0;34m(\u001b[0m\u001b[0mVal_dataset\u001b[0m\u001b[0;34m.\u001b[0m\u001b[0mtake\u001b[0m\u001b[0;34m(\u001b[0m\u001b[0;36m16\u001b[0m\u001b[0;34m)\u001b[0m\u001b[0;34m)\u001b[0m\u001b[0;34m:\u001b[0m\u001b[0;34m\u001b[0m\u001b[0;34m\u001b[0m\u001b[0m\n\u001b[1;32m      2\u001b[0m   \u001b[0max\u001b[0m \u001b[0;34m=\u001b[0m \u001b[0mplt\u001b[0m\u001b[0;34m.\u001b[0m\u001b[0msubplot\u001b[0m\u001b[0;34m(\u001b[0m\u001b[0;36m4\u001b[0m\u001b[0;34m,\u001b[0m\u001b[0;36m4\u001b[0m\u001b[0;34m,\u001b[0m\u001b[0mi\u001b[0m\u001b[0;34m+\u001b[0m\u001b[0;36m1\u001b[0m\u001b[0;34m)\u001b[0m\u001b[0;34m\u001b[0m\u001b[0;34m\u001b[0m\u001b[0m\n\u001b[0;32m----> 3\u001b[0;31m   \u001b[0mplt\u001b[0m\u001b[0;34m.\u001b[0m\u001b[0mimshow\u001b[0m\u001b[0;34m(\u001b[0m\u001b[0mimage\u001b[0m\u001b[0;34m)\u001b[0m\u001b[0;34m\u001b[0m\u001b[0;34m\u001b[0m\u001b[0m\n\u001b[0m\u001b[1;32m      4\u001b[0m   \u001b[0mplt\u001b[0m\u001b[0;34m.\u001b[0m\u001b[0mtitle\u001b[0m\u001b[0;34m(\u001b[0m\u001b[0mdataset_info\u001b[0m\u001b[0;34m.\u001b[0m\u001b[0mfeatures\u001b[0m\u001b[0;34m[\u001b[0m\u001b[0;34m'label'\u001b[0m\u001b[0;34m]\u001b[0m\u001b[0;34m.\u001b[0m\u001b[0mint2str\u001b[0m\u001b[0;34m(\u001b[0m\u001b[0mlabel\u001b[0m\u001b[0;34m)\u001b[0m\u001b[0;34m)\u001b[0m\u001b[0;34m\u001b[0m\u001b[0;34m\u001b[0m\u001b[0m\n",
            "\u001b[0;32m/usr/local/lib/python3.10/dist-packages/matplotlib/pyplot.py\u001b[0m in \u001b[0;36mimshow\u001b[0;34m(X, cmap, norm, aspect, interpolation, alpha, vmin, vmax, origin, extent, interpolation_stage, filternorm, filterrad, resample, url, data, **kwargs)\u001b[0m\n\u001b[1;32m   2693\u001b[0m         \u001b[0minterpolation_stage\u001b[0m\u001b[0;34m=\u001b[0m\u001b[0;32mNone\u001b[0m\u001b[0;34m,\u001b[0m \u001b[0mfilternorm\u001b[0m\u001b[0;34m=\u001b[0m\u001b[0;32mTrue\u001b[0m\u001b[0;34m,\u001b[0m \u001b[0mfilterrad\u001b[0m\u001b[0;34m=\u001b[0m\u001b[0;36m4.0\u001b[0m\u001b[0;34m,\u001b[0m\u001b[0;34m\u001b[0m\u001b[0;34m\u001b[0m\u001b[0m\n\u001b[1;32m   2694\u001b[0m         resample=None, url=None, data=None, **kwargs):\n\u001b[0;32m-> 2695\u001b[0;31m     __ret = gca().imshow(\n\u001b[0m\u001b[1;32m   2696\u001b[0m         \u001b[0mX\u001b[0m\u001b[0;34m,\u001b[0m \u001b[0mcmap\u001b[0m\u001b[0;34m=\u001b[0m\u001b[0mcmap\u001b[0m\u001b[0;34m,\u001b[0m \u001b[0mnorm\u001b[0m\u001b[0;34m=\u001b[0m\u001b[0mnorm\u001b[0m\u001b[0;34m,\u001b[0m \u001b[0maspect\u001b[0m\u001b[0;34m=\u001b[0m\u001b[0maspect\u001b[0m\u001b[0;34m,\u001b[0m\u001b[0;34m\u001b[0m\u001b[0;34m\u001b[0m\u001b[0m\n\u001b[1;32m   2697\u001b[0m         \u001b[0minterpolation\u001b[0m\u001b[0;34m=\u001b[0m\u001b[0minterpolation\u001b[0m\u001b[0;34m,\u001b[0m \u001b[0malpha\u001b[0m\u001b[0;34m=\u001b[0m\u001b[0malpha\u001b[0m\u001b[0;34m,\u001b[0m \u001b[0mvmin\u001b[0m\u001b[0;34m=\u001b[0m\u001b[0mvmin\u001b[0m\u001b[0;34m,\u001b[0m\u001b[0;34m\u001b[0m\u001b[0;34m\u001b[0m\u001b[0m\n",
            "\u001b[0;32m/usr/local/lib/python3.10/dist-packages/matplotlib/__init__.py\u001b[0m in \u001b[0;36minner\u001b[0;34m(ax, data, *args, **kwargs)\u001b[0m\n\u001b[1;32m   1440\u001b[0m     \u001b[0;32mdef\u001b[0m \u001b[0minner\u001b[0m\u001b[0;34m(\u001b[0m\u001b[0max\u001b[0m\u001b[0;34m,\u001b[0m \u001b[0;34m*\u001b[0m\u001b[0margs\u001b[0m\u001b[0;34m,\u001b[0m \u001b[0mdata\u001b[0m\u001b[0;34m=\u001b[0m\u001b[0;32mNone\u001b[0m\u001b[0;34m,\u001b[0m \u001b[0;34m**\u001b[0m\u001b[0mkwargs\u001b[0m\u001b[0;34m)\u001b[0m\u001b[0;34m:\u001b[0m\u001b[0;34m\u001b[0m\u001b[0;34m\u001b[0m\u001b[0m\n\u001b[1;32m   1441\u001b[0m         \u001b[0;32mif\u001b[0m \u001b[0mdata\u001b[0m \u001b[0;32mis\u001b[0m \u001b[0;32mNone\u001b[0m\u001b[0;34m:\u001b[0m\u001b[0;34m\u001b[0m\u001b[0;34m\u001b[0m\u001b[0m\n\u001b[0;32m-> 1442\u001b[0;31m             \u001b[0;32mreturn\u001b[0m \u001b[0mfunc\u001b[0m\u001b[0;34m(\u001b[0m\u001b[0max\u001b[0m\u001b[0;34m,\u001b[0m \u001b[0;34m*\u001b[0m\u001b[0mmap\u001b[0m\u001b[0;34m(\u001b[0m\u001b[0msanitize_sequence\u001b[0m\u001b[0;34m,\u001b[0m \u001b[0margs\u001b[0m\u001b[0;34m)\u001b[0m\u001b[0;34m,\u001b[0m \u001b[0;34m**\u001b[0m\u001b[0mkwargs\u001b[0m\u001b[0;34m)\u001b[0m\u001b[0;34m\u001b[0m\u001b[0;34m\u001b[0m\u001b[0m\n\u001b[0m\u001b[1;32m   1443\u001b[0m \u001b[0;34m\u001b[0m\u001b[0m\n\u001b[1;32m   1444\u001b[0m         \u001b[0mbound\u001b[0m \u001b[0;34m=\u001b[0m \u001b[0mnew_sig\u001b[0m\u001b[0;34m.\u001b[0m\u001b[0mbind\u001b[0m\u001b[0;34m(\u001b[0m\u001b[0max\u001b[0m\u001b[0;34m,\u001b[0m \u001b[0;34m*\u001b[0m\u001b[0margs\u001b[0m\u001b[0;34m,\u001b[0m \u001b[0;34m**\u001b[0m\u001b[0mkwargs\u001b[0m\u001b[0;34m)\u001b[0m\u001b[0;34m\u001b[0m\u001b[0;34m\u001b[0m\u001b[0m\n",
            "\u001b[0;32m/usr/local/lib/python3.10/dist-packages/matplotlib/axes/_axes.py\u001b[0m in \u001b[0;36mimshow\u001b[0;34m(self, X, cmap, norm, aspect, interpolation, alpha, vmin, vmax, origin, extent, interpolation_stage, filternorm, filterrad, resample, url, **kwargs)\u001b[0m\n\u001b[1;32m   5663\u001b[0m                               **kwargs)\n\u001b[1;32m   5664\u001b[0m \u001b[0;34m\u001b[0m\u001b[0m\n\u001b[0;32m-> 5665\u001b[0;31m         \u001b[0mim\u001b[0m\u001b[0;34m.\u001b[0m\u001b[0mset_data\u001b[0m\u001b[0;34m(\u001b[0m\u001b[0mX\u001b[0m\u001b[0;34m)\u001b[0m\u001b[0;34m\u001b[0m\u001b[0;34m\u001b[0m\u001b[0m\n\u001b[0m\u001b[1;32m   5666\u001b[0m         \u001b[0mim\u001b[0m\u001b[0;34m.\u001b[0m\u001b[0mset_alpha\u001b[0m\u001b[0;34m(\u001b[0m\u001b[0malpha\u001b[0m\u001b[0;34m)\u001b[0m\u001b[0;34m\u001b[0m\u001b[0;34m\u001b[0m\u001b[0m\n\u001b[1;32m   5667\u001b[0m         \u001b[0;32mif\u001b[0m \u001b[0mim\u001b[0m\u001b[0;34m.\u001b[0m\u001b[0mget_clip_path\u001b[0m\u001b[0;34m(\u001b[0m\u001b[0;34m)\u001b[0m \u001b[0;32mis\u001b[0m \u001b[0;32mNone\u001b[0m\u001b[0;34m:\u001b[0m\u001b[0;34m\u001b[0m\u001b[0;34m\u001b[0m\u001b[0m\n",
            "\u001b[0;32m/usr/local/lib/python3.10/dist-packages/matplotlib/image.py\u001b[0m in \u001b[0;36mset_data\u001b[0;34m(self, A)\u001b[0m\n\u001b[1;32m    708\u001b[0m         if not (self._A.ndim == 2\n\u001b[1;32m    709\u001b[0m                 or self._A.ndim == 3 and self._A.shape[-1] in [3, 4]):\n\u001b[0;32m--> 710\u001b[0;31m             raise TypeError(\"Invalid shape {} for image data\"\n\u001b[0m\u001b[1;32m    711\u001b[0m                             .format(self._A.shape))\n\u001b[1;32m    712\u001b[0m \u001b[0;34m\u001b[0m\u001b[0m\n",
            "\u001b[0;31mTypeError\u001b[0m: Invalid shape (32, 224, 224, 3) for image data"
          ]
        },
        {
          "output_type": "display_data",
          "data": {
            "text/plain": [
              "<Figure size 640x480 with 1 Axes>"
            ],
            "image/png": "[encoded data removed]"
          },
          "metadata": {}
        }
      ],
      "source": [
        "for i, (image,label) in enumerate(Val_dataset.take(16)):\n",
        "  ax = plt.subplot(4,4,i+1)\n",
        "  plt.imshow(image)\n",
        "  plt.title(dataset_info.features['label'].int2str(label))"
      ]
    },
    {
      "cell_type": "markdown",
      "metadata": {
        "id": "MXpvvzo4jj6w"
      },
      "source": [
        "**Data processing**\n",
        "\n",
        "firstly we will do the resizing part\n",
        "\n",
        "then we will normalize it"
      ]
    },
    {
      "cell_type": "code",
      "execution_count": 8,
      "metadata": {
        "id": "i_jp8NKwlAk_"
      },
      "outputs": [],
      "source": [
        "IM_SIZE=224\n",
        "def resizing_rescale(image,label):\n",
        "  return tf.image.resize(image,(IM_SIZE,IM_SIZE))/225.0,label"
      ]
    },
    {
      "cell_type": "code",
      "execution_count": 9,
      "metadata": {
        "colab": {
          "base_uri": "https://localhost:8080/"
        },
        "id": "_OjNK_GqiJ3V",
        "outputId": "6564f3a7-107b-4e41-9189-e2d8a0952b11"
      },
      "outputs": [
        {
          "output_type": "execute_result",
          "data": {
            "text/plain": [
              "<_TakeDataset element_spec=(TensorSpec(shape=(None, None, 3), dtype=tf.uint8, name=None), TensorSpec(shape=(), dtype=tf.int64, name=None))>"
            ]
          },
          "metadata": {},
          "execution_count": 9
        }
      ],
      "source": [
        "Val_dataset"
      ]
    },
    {
      "cell_type": "code",
      "execution_count": 10,
      "metadata": {
        "id": "kcua4EzwWyBS"
      },
      "outputs": [],
      "source": [
        "train_dataset= Train_dataset.map(resizing_rescale)\n",
        "Val_dataset = Val_dataset.map(resizing_rescale)\n",
        "Test_dataset = Test_dataset.map(resizing_rescale)"
      ]
    },
    {
      "cell_type": "code",
      "execution_count": 11,
      "metadata": {
        "colab": {
          "base_uri": "https://localhost:8080/"
        },
        "id": "HtU6SGSGhpLS",
        "outputId": "c3d2eb87-9adc-45e4-911b-83e90c94daba"
      },
      "outputs": [
        {
          "output_type": "execute_result",
          "data": {
            "text/plain": [
              "<_MapDataset element_spec=(TensorSpec(shape=(224, 224, 3), dtype=tf.float32, name=None), TensorSpec(shape=(), dtype=tf.int64, name=None))>"
            ]
          },
          "metadata": {},
          "execution_count": 11
        }
      ],
      "source": [
        "Val_dataset"
      ]
    },
    {
      "cell_type": "code",
      "execution_count": 12,
      "metadata": {
        "colab": {
          "base_uri": "https://localhost:8080/"
        },
        "id": "Mh9NU5GsWyEj",
        "outputId": "1346fb11-3e04-47dd-edf7-c96f08fcef26"
      },
      "outputs": [
        {
          "output_type": "stream",
          "name": "stdout",
          "text": [
            "tf.Tensor(\n",
            "[[[0. 0. 0.]\n",
            "  [0. 0. 0.]\n",
            "  [0. 0. 0.]\n",
            "  ...\n",
            "  [0. 0. 0.]\n",
            "  [0. 0. 0.]\n",
            "  [0. 0. 0.]]\n",
            "\n",
            " [[0. 0. 0.]\n",
            "  [0. 0. 0.]\n",
            "  [0. 0. 0.]\n",
            "  ...\n",
            "  [0. 0. 0.]\n",
            "  [0. 0. 0.]\n",
            "  [0. 0. 0.]]\n",
            "\n",
            " [[0. 0. 0.]\n",
            "  [0. 0. 0.]\n",
            "  [0. 0. 0.]\n",
            "  ...\n",
            "  [0. 0. 0.]\n",
            "  [0. 0. 0.]\n",
            "  [0. 0. 0.]]\n",
            "\n",
            " ...\n",
            "\n",
            " [[0. 0. 0.]\n",
            "  [0. 0. 0.]\n",
            "  [0. 0. 0.]\n",
            "  ...\n",
            "  [0. 0. 0.]\n",
            "  [0. 0. 0.]\n",
            "  [0. 0. 0.]]\n",
            "\n",
            " [[0. 0. 0.]\n",
            "  [0. 0. 0.]\n",
            "  [0. 0. 0.]\n",
            "  ...\n",
            "  [0. 0. 0.]\n",
            "  [0. 0. 0.]\n",
            "  [0. 0. 0.]]\n",
            "\n",
            " [[0. 0. 0.]\n",
            "  [0. 0. 0.]\n",
            "  [0. 0. 0.]\n",
            "  ...\n",
            "  [0. 0. 0.]\n",
            "  [0. 0. 0.]\n",
            "  [0. 0. 0.]]], shape=(224, 224, 3), dtype=float32) tf.Tensor(0, shape=(), dtype=int64)\n"
          ]
        }
      ],
      "source": [
        "for image,label in train_dataset.take(1):\n",
        "  print(image,label)"
      ]
    },
    {
      "cell_type": "code",
      "execution_count": 13,
      "metadata": {
        "id": "4UpBtqIuWyH6"
      },
      "outputs": [],
      "source": [
        "train_dataset = train_dataset.shuffle(buffer_size=8,reshuffle_each_iteration=True).batch(32).prefetch(tf.data.AUTOTUNE)"
      ]
    },
    {
      "cell_type": "code",
      "execution_count": 14,
      "metadata": {
        "id": "9arbApTmeJLo"
      },
      "outputs": [],
      "source": [
        "Val_dataset = Val_dataset.shuffle(buffer_size=8,reshuffle_each_iteration=True).batch(32).prefetch(tf.data.AUTOTUNE)"
      ]
    },
    {
      "cell_type": "code",
      "execution_count": 15,
      "metadata": {
        "colab": {
          "base_uri": "https://localhost:8080/"
        },
        "id": "YTkTzfn3eJTt",
        "outputId": "03095724-5dc5-41cf-ec76-bbd471af5d9d"
      },
      "outputs": [
        {
          "output_type": "execute_result",
          "data": {
            "text/plain": [
              "<_PrefetchDataset element_spec=(TensorSpec(shape=(None, 224, 224, 3), dtype=tf.float32, name=None), TensorSpec(shape=(None,), dtype=tf.int64, name=None))>"
            ]
          },
          "metadata": {},
          "execution_count": 15
        }
      ],
      "source": [
        "Val_dataset"
      ]
    },
    {
      "cell_type": "code",
      "execution_count": 16,
      "metadata": {
        "colab": {
          "base_uri": "https://localhost:8080/"
        },
        "id": "Q--a6bP_fBtr",
        "outputId": "e75371bb-cfd6-44d1-acb8-4b1a16569319"
      },
      "outputs": [
        {
          "output_type": "execute_result",
          "data": {
            "text/plain": [
              "<_PrefetchDataset element_spec=(TensorSpec(shape=(None, 224, 224, 3), dtype=tf.float32, name=None), TensorSpec(shape=(None,), dtype=tf.int64, name=None))>"
            ]
          },
          "metadata": {},
          "execution_count": 16
        }
      ],
      "source": [
        "train_dataset"
      ]
    },
    {
      "cell_type": "markdown",
      "metadata": {
        "id": "vwr-zFf6m_mg"
      },
      "source": [
        "**model creation**"
      ]
    },
    {
      "cell_type": "code",
      "execution_count": 17,
      "metadata": {
        "colab": {
          "base_uri": "https://localhost:8080/"
        },
        "id": "67tpHXCGWwHq",
        "outputId": "23650115-2777-4fd4-cd4f-cdcfa59f2647"
      },
      "outputs": [
        {
          "output_type": "stream",
          "name": "stdout",
          "text": [
            "Model: \"sequential\"\n",
            "_________________________________________________________________\n",
            " Layer (type)                Output Shape              Param #   \n",
            "=================================================================\n",
            " conv2d (Conv2D)             (None, 222, 222, 6)       168       \n",
            "                                                                 \n",
            " batch_normalization (Batch  (None, 222, 222, 6)       24        \n",
            " Normalization)                                                  \n",
            "                                                                 \n",
            " max_pooling2d (MaxPooling2  (None, 111, 111, 6)       0         \n",
            " D)                                                              \n",
            "                                                                 \n",
            " conv2d_1 (Conv2D)           (None, 109, 109, 16)      880       \n",
            "                                                                 \n",
            " batch_normalization_1 (Bat  (None, 109, 109, 16)      64        \n",
            " chNormalization)                                                \n",
            "                                                                 \n",
            " max_pooling2d_1 (MaxPoolin  (None, 54, 54, 16)        0         \n",
            " g2D)                                                            \n",
            "                                                                 \n",
            " flatten (Flatten)           (None, 46656)             0         \n",
            "                                                                 \n",
            " dense (Dense)               (None, 1000)              46657000  \n",
            "                                                                 \n",
            " batch_normalization_2 (Bat  (None, 1000)              4000      \n",
            " chNormalization)                                                \n",
            "                                                                 \n",
            " dense_1 (Dense)             (None, 100)               100100    \n",
            "                                                                 \n",
            " batch_normalization_3 (Bat  (None, 100)               400       \n",
            " chNormalization)                                                \n",
            "                                                                 \n",
            " dense_2 (Dense)             (None, 1)                 101       \n",
            "                                                                 \n",
            "=================================================================\n",
            "Total params: 46762737 (178.39 MB)\n",
            "Trainable params: 46760493 (178.38 MB)\n",
            "Non-trainable params: 2244 (8.77 KB)\n",
            "_________________________________________________________________\n"
          ]
        }
      ],
      "source": [
        "model = tf.keras.Sequential([\n",
        "                            InputLayer(input_shape=(IM_SIZE,IM_SIZE,3)),\n",
        "\n",
        "                            Conv2D(filters=6,kernel_size=3,strides=1,padding='valid',activation='relu'),\n",
        "                            BatchNormalization(),\n",
        "                            MaxPool2D(pool_size=2,strides=2),\n",
        "                            Conv2D(filters=16,kernel_size=3,strides=1,padding='valid',activation='relu'),\n",
        "                            BatchNormalization(),\n",
        "                            MaxPool2D(pool_size=2,strides=2),\n",
        "\n",
        "                            Flatten(),\n",
        "\n",
        "                            Dense(1000,activation=\"relu\"),\n",
        "                            BatchNormalization(),\n",
        "                            Dense(100,activation=\"relu\"),\n",
        "                            BatchNormalization(),\n",
        "                            Dense(1,activation=\"sigmoid\"),\n",
        "\n",
        "])\n",
        "model.summary()\n"
      ]
    },
    {
      "cell_type": "code",
      "execution_count": 18,
      "metadata": {
        "colab": {
          "base_uri": "https://localhost:8080/"
        },
        "id": "BZr1scUzWwL5",
        "outputId": "a26c613c-3ff6-475c-b725-c709d498d381"
      },
      "outputs": [
        {
          "output_type": "execute_result",
          "data": {
            "text/plain": [
              "<tf.Tensor: shape=(), dtype=float32, numpy=0.58100903>"
            ]
          },
          "metadata": {},
          "execution_count": 18
        }
      ],
      "source": [
        "y_tru = [0,0,1,1]\n",
        "y_per=[0.03,0.2,1.2,0.3]\n",
        "bce=tf.keras.losses.BinaryCrossentropy(from_logits=True)\n",
        "bce(y_tru,y_per)"
      ]
    },
    {
      "cell_type": "code",
      "execution_count": 19,
      "metadata": {
        "id": "DALjse0EWwSq"
      },
      "outputs": [],
      "source": [
        "model.compile(optimizer = Adam(learning_rate=0.1),\n",
        "              loss=BinaryCrossentropy(),\n",
        "              metrics='accuracy')"
      ]
    },
    {
      "cell_type": "code",
      "execution_count": 20,
      "metadata": {
        "colab": {
          "base_uri": "https://localhost:8080/"
        },
        "id": "pUXvqPqVWwV5",
        "outputId": "f2ed8bd3-b1a9-419a-84eb-4c6287a5c8ad"
      },
      "outputs": [
        {
          "output_type": "stream",
          "name": "stdout",
          "text": [
            "Epoch 1/100\n",
            "689/689 [==============================] - 57s 64ms/step - loss: 0.6776 - accuracy: 0.6082 - val_loss: 0.6728 - val_accuracy: 0.6479\n",
            "Epoch 2/100\n",
            "689/689 [==============================] - 58s 84ms/step - loss: 0.6097 - accuracy: 0.6826 - val_loss: 0.6712 - val_accuracy: 0.6853\n",
            "Epoch 3/100\n",
            "689/689 [==============================] - 48s 69ms/step - loss: 0.3700 - accuracy: 0.8609 - val_loss: 3.0327 - val_accuracy: 0.4944\n",
            "Epoch 4/100\n",
            "689/689 [==============================] - 53s 77ms/step - loss: 0.4463 - accuracy: 0.8102 - val_loss: 1.0478 - val_accuracy: 0.5528\n",
            "Epoch 5/100\n",
            "689/689 [==============================] - 49s 71ms/step - loss: 0.6548 - accuracy: 0.6395 - val_loss: 1.0846 - val_accuracy: 0.5445\n",
            "Epoch 6/100\n",
            "689/689 [==============================] - 52s 75ms/step - loss: 0.6042 - accuracy: 0.6894 - val_loss: 7.6314 - val_accuracy: 0.6240\n",
            "Epoch 7/100\n",
            "689/689 [==============================] - 44s 64ms/step - loss: 0.5672 - accuracy: 0.7203 - val_loss: 79.6014 - val_accuracy: 0.6784\n",
            "Epoch 8/100\n",
            "689/689 [==============================] - 45s 65ms/step - loss: 0.4418 - accuracy: 0.8059 - val_loss: 6.4834 - val_accuracy: 0.5887\n",
            "Epoch 9/100\n",
            "689/689 [==============================] - 50s 73ms/step - loss: 0.3421 - accuracy: 0.8651 - val_loss: 106.1713 - val_accuracy: 0.5321\n",
            "Epoch 10/100\n",
            "689/689 [==============================] - 44s 64ms/step - loss: 0.4441 - accuracy: 0.8014 - val_loss: 6.3121 - val_accuracy: 0.6577\n",
            "Epoch 11/100\n",
            "689/689 [==============================] - 49s 71ms/step - loss: 0.5140 - accuracy: 0.7644 - val_loss: 17.6779 - val_accuracy: 0.5448\n",
            "Epoch 12/100\n",
            "689/689 [==============================] - 46s 66ms/step - loss: 0.3595 - accuracy: 0.8609 - val_loss: 2.5632 - val_accuracy: 0.4962\n",
            "Epoch 13/100\n",
            "689/689 [==============================] - 44s 64ms/step - loss: 0.3143 - accuracy: 0.8827 - val_loss: 1.0932 - val_accuracy: 0.8178\n",
            "Epoch 14/100\n",
            "689/689 [==============================] - 54s 78ms/step - loss: 0.4174 - accuracy: 0.8235 - val_loss: 1.5452 - val_accuracy: 0.5201\n",
            "Epoch 15/100\n",
            "689/689 [==============================] - 44s 63ms/step - loss: 0.3001 - accuracy: 0.8939 - val_loss: 3.2979 - val_accuracy: 0.4936\n",
            "Epoch 16/100\n",
            "689/689 [==============================] - 47s 68ms/step - loss: 0.3738 - accuracy: 0.8398 - val_loss: 1.1216 - val_accuracy: 0.5365\n",
            "Epoch 17/100\n",
            "689/689 [==============================] - 46s 67ms/step - loss: 0.2851 - accuracy: 0.9045 - val_loss: 779.8236 - val_accuracy: 0.4929\n",
            "Epoch 18/100\n",
            "689/689 [==============================] - 52s 76ms/step - loss: 0.2586 - accuracy: 0.9173 - val_loss: 10.0346 - val_accuracy: 0.8559\n",
            "Epoch 19/100\n",
            "689/689 [==============================] - 47s 68ms/step - loss: 0.2454 - accuracy: 0.9221 - val_loss: 0.3897 - val_accuracy: 0.8842\n",
            "Epoch 20/100\n",
            "689/689 [==============================] - 45s 66ms/step - loss: 0.2272 - accuracy: 0.9259 - val_loss: 328.2201 - val_accuracy: 0.7201\n",
            "Epoch 21/100\n",
            "689/689 [==============================] - 44s 64ms/step - loss: 0.2236 - accuracy: 0.9311 - val_loss: 1.2225 - val_accuracy: 0.4966\n",
            "Epoch 22/100\n",
            "689/689 [==============================] - 45s 65ms/step - loss: 0.2030 - accuracy: 0.9348 - val_loss: 425.8550 - val_accuracy: 0.9310\n",
            "Epoch 23/100\n",
            "689/689 [==============================] - 52s 76ms/step - loss: 0.2019 - accuracy: 0.9335 - val_loss: 23.6119 - val_accuracy: 0.8508\n",
            "Epoch 24/100\n",
            "689/689 [==============================] - 54s 78ms/step - loss: 0.2063 - accuracy: 0.9335 - val_loss: 19113.0371 - val_accuracy: 0.5996\n",
            "Epoch 25/100\n",
            "689/689 [==============================] - 44s 63ms/step - loss: 0.1847 - accuracy: 0.9418 - val_loss: 0.1860 - val_accuracy: 0.9365\n",
            "Epoch 26/100\n",
            "689/689 [==============================] - 49s 72ms/step - loss: 0.1736 - accuracy: 0.9448 - val_loss: 255328.2031 - val_accuracy: 0.6327\n",
            "Epoch 27/100\n",
            "689/689 [==============================] - 48s 70ms/step - loss: 0.1759 - accuracy: 0.9474 - val_loss: 0.1765 - val_accuracy: 0.9419\n",
            "Epoch 28/100\n",
            "689/689 [==============================] - 44s 64ms/step - loss: 0.1564 - accuracy: 0.9534 - val_loss: 111.5695 - val_accuracy: 0.9005\n",
            "Epoch 29/100\n",
            "689/689 [==============================] - 47s 68ms/step - loss: 0.1614 - accuracy: 0.9502 - val_loss: 1097.4884 - val_accuracy: 0.9387\n",
            "Epoch 30/100\n",
            "689/689 [==============================] - 49s 70ms/step - loss: 0.1499 - accuracy: 0.9526 - val_loss: 0.2768 - val_accuracy: 0.9321\n",
            "Epoch 31/100\n",
            "689/689 [==============================] - 44s 64ms/step - loss: 0.1361 - accuracy: 0.9565 - val_loss: 44.6426 - val_accuracy: 0.9354\n",
            "Epoch 32/100\n",
            "689/689 [==============================] - 45s 66ms/step - loss: 0.1560 - accuracy: 0.9505 - val_loss: 1.6473 - val_accuracy: 0.9383\n",
            "Epoch 33/100\n",
            "689/689 [==============================] - 49s 71ms/step - loss: 0.2028 - accuracy: 0.9360 - val_loss: 0.7738 - val_accuracy: 0.8762\n",
            "Epoch 34/100\n",
            "689/689 [==============================] - 55s 80ms/step - loss: 0.1502 - accuracy: 0.9526 - val_loss: 0.2598 - val_accuracy: 0.9281\n",
            "Epoch 35/100\n",
            "689/689 [==============================] - 48s 69ms/step - loss: 0.1123 - accuracy: 0.9658 - val_loss: 9.6547 - val_accuracy: 0.9434\n",
            "Epoch 36/100\n",
            "689/689 [==============================] - 45s 65ms/step - loss: 0.1057 - accuracy: 0.9673 - val_loss: 0.8365 - val_accuracy: 0.9368\n",
            "Epoch 37/100\n",
            "689/689 [==============================] - 57s 83ms/step - loss: 0.1377 - accuracy: 0.9575 - val_loss: 2.4053 - val_accuracy: 0.9459\n",
            "Epoch 38/100\n",
            "689/689 [==============================] - 53s 77ms/step - loss: 0.1030 - accuracy: 0.9654 - val_loss: 26.3666 - val_accuracy: 0.9387\n",
            "Epoch 39/100\n",
            "689/689 [==============================] - 45s 65ms/step - loss: 0.0842 - accuracy: 0.9723 - val_loss: 2684.0952 - val_accuracy: 0.9401\n",
            "Epoch 40/100\n",
            "689/689 [==============================] - 48s 70ms/step - loss: 0.0900 - accuracy: 0.9721 - val_loss: 101.2532 - val_accuracy: 0.9285\n",
            "Epoch 41/100\n",
            "689/689 [==============================] - 49s 71ms/step - loss: 0.1264 - accuracy: 0.9625 - val_loss: 9.4670 - val_accuracy: 0.9328\n",
            "Epoch 42/100\n",
            "689/689 [==============================] - 50s 73ms/step - loss: 0.0676 - accuracy: 0.9776 - val_loss: 1.0254 - val_accuracy: 0.9397\n",
            "Epoch 43/100\n",
            "689/689 [==============================] - 45s 66ms/step - loss: 0.0805 - accuracy: 0.9779 - val_loss: 17.6990 - val_accuracy: 0.9220\n",
            "Epoch 44/100\n",
            "689/689 [==============================] - 44s 64ms/step - loss: 0.0913 - accuracy: 0.9730 - val_loss: 0.3354 - val_accuracy: 0.9383\n",
            "Epoch 45/100\n",
            "689/689 [==============================] - 45s 66ms/step - loss: 0.0568 - accuracy: 0.9818 - val_loss: 21.7654 - val_accuracy: 0.9064\n",
            "Epoch 46/100\n",
            "689/689 [==============================] - 45s 66ms/step - loss: 0.0611 - accuracy: 0.9814 - val_loss: 2947970.5000 - val_accuracy: 0.4864\n",
            "Epoch 47/100\n",
            "689/689 [==============================] - 47s 68ms/step - loss: 0.2449 - accuracy: 0.9350 - val_loss: 0.4923 - val_accuracy: 0.9441\n",
            "Epoch 48/100\n",
            "689/689 [==============================] - 46s 67ms/step - loss: 0.0970 - accuracy: 0.9669 - val_loss: 3.0445 - val_accuracy: 0.9372\n",
            "Epoch 49/100\n",
            "689/689 [==============================] - 58s 84ms/step - loss: 0.0748 - accuracy: 0.9769 - val_loss: 0.8625 - val_accuracy: 0.9423\n",
            "Epoch 50/100\n",
            "689/689 [==============================] - 46s 66ms/step - loss: 0.0727 - accuracy: 0.9760 - val_loss: 52.1709 - val_accuracy: 0.9379\n",
            "Epoch 51/100\n",
            "689/689 [==============================] - 45s 66ms/step - loss: 0.0629 - accuracy: 0.9796 - val_loss: 0.2906 - val_accuracy: 0.9448\n",
            "Epoch 52/100\n",
            "689/689 [==============================] - 47s 67ms/step - loss: 0.0606 - accuracy: 0.9804 - val_loss: 412.9353 - val_accuracy: 0.9390\n",
            "Epoch 53/100\n",
            "689/689 [==============================] - 45s 65ms/step - loss: 0.0899 - accuracy: 0.9739 - val_loss: 552.2226 - val_accuracy: 0.9376\n",
            "Epoch 54/100\n",
            "689/689 [==============================] - 53s 77ms/step - loss: 0.0984 - accuracy: 0.9692 - val_loss: 0.9827 - val_accuracy: 0.9162\n",
            "Epoch 55/100\n",
            "689/689 [==============================] - 49s 70ms/step - loss: 0.0787 - accuracy: 0.9760 - val_loss: 1.2541 - val_accuracy: 0.9140\n",
            "Epoch 56/100\n",
            "689/689 [==============================] - 51s 73ms/step - loss: 0.0565 - accuracy: 0.9833 - val_loss: 1189.3903 - val_accuracy: 0.8878\n",
            "Epoch 57/100\n",
            "689/689 [==============================] - 45s 65ms/step - loss: 0.0679 - accuracy: 0.9817 - val_loss: 310.2072 - val_accuracy: 0.9397\n",
            "Epoch 58/100\n",
            "689/689 [==============================] - 45s 65ms/step - loss: 0.0299 - accuracy: 0.9907 - val_loss: 7.1068 - val_accuracy: 0.9383\n",
            "Epoch 59/100\n",
            "689/689 [==============================] - 45s 65ms/step - loss: 0.0248 - accuracy: 0.9917 - val_loss: 106.4217 - val_accuracy: 0.9321\n",
            "Epoch 60/100\n",
            "689/689 [==============================] - 45s 66ms/step - loss: 0.0520 - accuracy: 0.9853 - val_loss: 0.6927 - val_accuracy: 0.9307\n",
            "Epoch 61/100\n",
            "689/689 [==============================] - 54s 78ms/step - loss: 0.0384 - accuracy: 0.9877 - val_loss: 29.4617 - val_accuracy: 0.9354\n",
            "Epoch 62/100\n",
            "689/689 [==============================] - 53s 77ms/step - loss: 0.0328 - accuracy: 0.9891 - val_loss: 58.0997 - val_accuracy: 0.8929\n",
            "Epoch 63/100\n",
            "689/689 [==============================] - 45s 65ms/step - loss: 0.0370 - accuracy: 0.9877 - val_loss: 245.7014 - val_accuracy: 0.9347\n",
            "Epoch 64/100\n",
            "689/689 [==============================] - 49s 71ms/step - loss: 0.0162 - accuracy: 0.9947 - val_loss: 51.5460 - val_accuracy: 0.9383\n",
            "Epoch 65/100\n",
            "689/689 [==============================] - 51s 74ms/step - loss: 0.0266 - accuracy: 0.9928 - val_loss: 15.3622 - val_accuracy: 0.9358\n",
            "Epoch 66/100\n",
            "689/689 [==============================] - 52s 76ms/step - loss: 0.2274 - accuracy: 0.9784 - val_loss: 3897.5154 - val_accuracy: 0.9423\n",
            "Epoch 67/100\n",
            "689/689 [==============================] - 44s 63ms/step - loss: 0.0363 - accuracy: 0.9921 - val_loss: 942.9551 - val_accuracy: 0.9430\n",
            "Epoch 68/100\n",
            "689/689 [==============================] - 46s 66ms/step - loss: 0.0214 - accuracy: 0.9938 - val_loss: 539.4269 - val_accuracy: 0.9466\n",
            "Epoch 69/100\n",
            "689/689 [==============================] - 44s 63ms/step - loss: 0.0193 - accuracy: 0.9948 - val_loss: 509.4774 - val_accuracy: 0.9358\n",
            "Epoch 70/100\n",
            "689/689 [==============================] - 55s 80ms/step - loss: 0.0141 - accuracy: 0.9952 - val_loss: 566.0963 - val_accuracy: 0.9318\n",
            "Epoch 71/100\n",
            "689/689 [==============================] - 45s 65ms/step - loss: 0.0176 - accuracy: 0.9951 - val_loss: 241.5228 - val_accuracy: 0.9339\n",
            "Epoch 72/100\n",
            "689/689 [==============================] - 44s 63ms/step - loss: 0.0186 - accuracy: 0.9950 - val_loss: 1601.8079 - val_accuracy: 0.9376\n",
            "Epoch 73/100\n",
            "689/689 [==============================] - 52s 75ms/step - loss: 0.0337 - accuracy: 0.9926 - val_loss: 1.5721 - val_accuracy: 0.9118\n",
            "Epoch 74/100\n",
            "689/689 [==============================] - 49s 71ms/step - loss: 0.1336 - accuracy: 0.9749 - val_loss: 276.6638 - val_accuracy: 0.9405\n",
            "Epoch 75/100\n",
            "689/689 [==============================] - 54s 78ms/step - loss: 0.0130 - accuracy: 0.9957 - val_loss: 17.1302 - val_accuracy: 0.9430\n",
            "Epoch 76/100\n",
            "689/689 [==============================] - 57s 83ms/step - loss: 0.0092 - accuracy: 0.9972 - val_loss: 0.5310 - val_accuracy: 0.9452\n",
            "Epoch 77/100\n",
            "689/689 [==============================] - 45s 65ms/step - loss: 0.0107 - accuracy: 0.9972 - val_loss: 0.8840 - val_accuracy: 0.9387\n",
            "Epoch 78/100\n",
            "689/689 [==============================] - 52s 76ms/step - loss: 0.0829 - accuracy: 0.9857 - val_loss: 0.7932 - val_accuracy: 0.9412\n",
            "Epoch 79/100\n",
            "689/689 [==============================] - 45s 66ms/step - loss: 0.0587 - accuracy: 0.9848 - val_loss: 0.5052 - val_accuracy: 0.9281\n",
            "Epoch 80/100\n",
            "689/689 [==============================] - 44s 64ms/step - loss: 0.0148 - accuracy: 0.9947 - val_loss: 65.2912 - val_accuracy: 0.9397\n",
            "Epoch 81/100\n",
            "689/689 [==============================] - 44s 64ms/step - loss: 0.0130 - accuracy: 0.9951 - val_loss: 965.6652 - val_accuracy: 0.9361\n",
            "Epoch 82/100\n",
            "689/689 [==============================] - 44s 63ms/step - loss: 0.0087 - accuracy: 0.9969 - val_loss: 57.8588 - val_accuracy: 0.9514\n",
            "Epoch 83/100\n",
            "689/689 [==============================] - 45s 66ms/step - loss: 0.0190 - accuracy: 0.9946 - val_loss: 11.8344 - val_accuracy: 0.9332\n",
            "Epoch 84/100\n",
            "689/689 [==============================] - 54s 78ms/step - loss: 0.0194 - accuracy: 0.9941 - val_loss: 1889.7740 - val_accuracy: 0.9368\n",
            "Epoch 85/100\n",
            "689/689 [==============================] - 45s 65ms/step - loss: 0.0165 - accuracy: 0.9956 - val_loss: 0.2603 - val_accuracy: 0.9147\n",
            "Epoch 86/100\n",
            "689/689 [==============================] - 44s 64ms/step - loss: 0.0410 - accuracy: 0.9911 - val_loss: 122.2193 - val_accuracy: 0.9350\n",
            "Epoch 87/100\n",
            "689/689 [==============================] - 53s 77ms/step - loss: 0.0735 - accuracy: 0.9886 - val_loss: 174.3798 - val_accuracy: 0.9379\n",
            "Epoch 88/100\n",
            "689/689 [==============================] - 46s 66ms/step - loss: 0.0209 - accuracy: 0.9951 - val_loss: 14.6577 - val_accuracy: 0.9459\n",
            "Epoch 89/100\n",
            "689/689 [==============================] - 53s 77ms/step - loss: 0.0100 - accuracy: 0.9970 - val_loss: 29.8928 - val_accuracy: 0.9419\n",
            "Epoch 90/100\n",
            "689/689 [==============================] - 53s 77ms/step - loss: 0.0100 - accuracy: 0.9971 - val_loss: 5.4370 - val_accuracy: 0.9408\n",
            "Epoch 91/100\n",
            "689/689 [==============================] - 56s 81ms/step - loss: 0.0876 - accuracy: 0.9897 - val_loss: 2609.2219 - val_accuracy: 0.9103\n",
            "Epoch 92/100\n",
            "689/689 [==============================] - 44s 64ms/step - loss: 0.0684 - accuracy: 0.9891 - val_loss: 1887.9235 - val_accuracy: 0.9405\n",
            "Epoch 93/100\n",
            "689/689 [==============================] - 45s 65ms/step - loss: 0.0083 - accuracy: 0.9972 - val_loss: 7.8469 - val_accuracy: 0.9412\n",
            "Epoch 94/100\n",
            "689/689 [==============================] - 45s 65ms/step - loss: 0.0034 - accuracy: 0.9987 - val_loss: 2.8479 - val_accuracy: 0.9416\n",
            "Epoch 95/100\n",
            "689/689 [==============================] - 48s 70ms/step - loss: 0.0119 - accuracy: 0.9965 - val_loss: 5.2819 - val_accuracy: 0.9365\n",
            "Epoch 96/100\n",
            "689/689 [==============================] - 52s 76ms/step - loss: 0.0374 - accuracy: 0.9940 - val_loss: 11.4364 - val_accuracy: 0.9419\n",
            "Epoch 97/100\n",
            "689/689 [==============================] - 45s 65ms/step - loss: 0.0115 - accuracy: 0.9969 - val_loss: 391.8072 - val_accuracy: 0.9441\n",
            "Epoch 98/100\n",
            "689/689 [==============================] - 45s 66ms/step - loss: 0.0060 - accuracy: 0.9986 - val_loss: 1.3875 - val_accuracy: 0.9430\n",
            "Epoch 99/100\n",
            "689/689 [==============================] - 43s 63ms/step - loss: 0.0586 - accuracy: 0.9919 - val_loss: 2261.4604 - val_accuracy: 0.9285\n",
            "Epoch 100/100\n",
            "689/689 [==============================] - 45s 65ms/step - loss: 0.0565 - accuracy: 0.9915 - val_loss: 1.3470 - val_accuracy: 0.9372\n"
          ]
        }
      ],
      "source": [
        "history = model.fit(train_dataset , validation_data =Val_dataset,epochs = 100 , verbose = 1)"
      ]
    },
    {
      "cell_type": "code",
      "source": [
        "plt.plot(history.history['loss'])\n",
        "plt.plot(history.history['val_loss'])\n",
        "plt.title('model loss')\n",
        "plt.ylabel('loss')\n",
        "plt.xlabel('epoch')\n",
        "plt.legend(['train_loss','val_loss'])\n",
        "plt.show()"
      ],
      "metadata": {
        "colab": {
          "base_uri": "https://localhost:8080/",
          "height": 472
        },
        "id": "mHdbzmbUUkEi",
        "outputId": "e785f412-4940-4955-a6af-a289b7a596c5"
      },
      "execution_count": 23,
      "outputs": [
        {
          "output_type": "display_data",
          "data": {
            "text/plain": [
              "<Figure size 640x480 with 1 Axes>"
            ],
            "image/png": "[encoded data removed]"
          },
          "metadata": {}
        }
      ]
    },
    {
      "cell_type": "code",
      "source": [],
      "metadata": {
        "id": "NmBAZAwVUkHW"
      },
      "execution_count": null,
      "outputs": []
    },
    {
      "cell_type": "markdown",
      "source": [
        "# Model Evaluation"
      ],
      "metadata": {
        "id": "59eU3oLvs-o2"
      }
    },
    {
      "cell_type": "code",
      "source": [
        "Test_dataset = Test_dataset.batch(1)"
      ],
      "metadata": {
        "id": "lXpRibniuKlt"
      },
      "execution_count": 28,
      "outputs": []
    },
    {
      "cell_type": "code",
      "source": [
        "Test_dataset"
      ],
      "metadata": {
        "colab": {
          "base_uri": "https://localhost:8080/"
        },
        "id": "-UBc4RwWuQYl",
        "outputId": "54f55ea3-2c4f-4d4e-e909-88dad7c6743d"
      },
      "execution_count": 29,
      "outputs": [
        {
          "output_type": "execute_result",
          "data": {
            "text/plain": [
              "<_BatchDataset element_spec=(TensorSpec(shape=(None, 224, 224, 3), dtype=tf.float32, name=None), TensorSpec(shape=(None,), dtype=tf.int64, name=None))>"
            ]
          },
          "metadata": {},
          "execution_count": 29
        }
      ]
    },
    {
      "cell_type": "code",
      "source": [
        "model.evaluate(Test_dataset)"
      ],
      "metadata": {
        "colab": {
          "base_uri": "https://localhost:8080/"
        },
        "id": "97jSBKAwtCet",
        "outputId": "087d9e43-6f59-4556-f146-79b7f1b71f25"
      },
      "execution_count": 30,
      "outputs": [
        {
          "output_type": "stream",
          "name": "stdout",
          "text": [
            "2757/2757 [==============================] - 21s 4ms/step - loss: 1.2545 - accuracy: 0.9329\n"
          ]
        },
        {
          "output_type": "execute_result",
          "data": {
            "text/plain": [
              "[1.254513144493103, 0.9328981041908264]"
            ]
          },
          "metadata": {},
          "execution_count": 30
        }
      ]
    },
    {
      "cell_type": "code",
      "source": [
        "parasite_or_not(model.predict(Test_dataset.take(1))[0][0])"
      ],
      "metadata": {
        "colab": {
          "base_uri": "https://localhost:8080/",
          "height": 53
        },
        "id": "6YR7ZatetNT2",
        "outputId": "2e253b9f-0cd3-432a-9c8a-5d24ac643ce6"
      },
      "execution_count": 34,
      "outputs": [
        {
          "output_type": "stream",
          "name": "stdout",
          "text": [
            "1/1 [==============================] - 10s 10s/step\n"
          ]
        },
        {
          "output_type": "execute_result",
          "data": {
            "text/plain": [
              "'U'"
            ],
            "application/vnd.google.colaboratory.intrinsic+json": {
              "type": "string"
            }
          },
          "metadata": {},
          "execution_count": 34
        }
      ]
    },
    {
      "cell_type": "code",
      "source": [
        "def parasite_or_not(x):\n",
        "  if(x<0.5):\n",
        "    return str('p')\n",
        "  else:\n",
        "    return str('U')"
      ],
      "metadata": {
        "id": "_N1soEFJu8vt"
      },
      "execution_count": 33,
      "outputs": []
    },
    {
      "cell_type": "markdown",
      "source": [
        "# Visualizing prediction"
      ],
      "metadata": {
        "id": "QHEqSg8Ov9SV"
      }
    },
    {
      "cell_type": "code",
      "source": [
        "for i, (image,label) in enumerate(Test_dataset.take(9)):\n",
        "  ax = plt.subplot(3,3,i+1)\n",
        "  plt.imshow(image[0])\n",
        "  plt.title(str(parasite_or_not(label.numpy()[0]))+\":\"+str(parasite_or_not(model.predict(image)[0][0])))\n",
        "\n",
        "  plt.axis('off')"
      ],
      "metadata": {
        "colab": {
          "base_uri": "https://localhost:8080/",
          "height": 607
        },
        "id": "PJMdZvH3vURG",
        "outputId": "54ce3a9f-0003-4a4f-a067-b70f38b22144"
      },
      "execution_count": 38,
      "outputs": [
        {
          "output_type": "stream",
          "name": "stdout",
          "text": [
            "1/1 [==============================] - 0s 18ms/step\n"
          ]
        },
        {
          "output_type": "stream",
          "name": "stderr",
          "text": [
            "WARNING:matplotlib.image:Clipping input data to the valid range for imshow with RGB data ([0..1] for floats or [0..255] for integers).\n"
          ]
        },
        {
          "output_type": "stream",
          "name": "stdout",
          "text": [
            "1/1 [==============================] - 0s 16ms/step\n",
            "1/1 [==============================] - 0s 16ms/step\n",
            "1/1 [==============================] - 0s 19ms/step\n",
            "1/1 [==============================] - 0s 17ms/step\n",
            "1/1 [==============================] - 0s 17ms/step\n",
            "1/1 [==============================] - 0s 17ms/step\n",
            "1/1 [==============================] - 0s 18ms/step\n",
            "1/1 [==============================] - 0s 17ms/step\n"
          ]
        },
        {
          "output_type": "display_data",
          "data": {
            "text/plain": [
              "<Figure size 640x480 with 9 Axes>"
            ],
            "image/png": "[encoded data removed]"
          },
          "metadata": {}
        }
      ]
    },
    {
      "cell_type": "code",
      "source": [],
      "metadata": {
        "id": "OLkuT3_2wiuE"
      },
      "execution_count": null,
      "outputs": []
    }
  ]
}